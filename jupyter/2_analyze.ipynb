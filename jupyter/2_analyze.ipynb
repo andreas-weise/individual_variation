{
 "cells": [
  {
   "cell_type": "code",
   "execution_count": 1,
   "metadata": {},
   "outputs": [],
   "source": [
    "import sys\n",
    "sys.path.append('../python/')\n",
    "import ana\n",
    "import ap\n",
    "import aux\n",
    "import cfg\n",
    "import db\n",
    "import fio"
   ]
  },
  {
   "cell_type": "code",
   "execution_count": 2,
   "metadata": {},
   "outputs": [],
   "source": [
    "%load_ext rpy2.ipython"
   ]
  },
  {
   "cell_type": "code",
   "execution_count": 3,
   "metadata": {},
   "outputs": [],
   "source": [
    "%%R\n",
    "source(\"../R/anova.R\")"
   ]
  },
  {
   "cell_type": "markdown",
   "metadata": {},
   "source": [
    "# Initialization"
   ]
  },
  {
   "cell_type": "markdown",
   "metadata": {},
   "source": [
    "## Deception Corpus"
   ]
  },
  {
   "cell_type": "code",
   "execution_count": 4,
   "metadata": {},
   "outputs": [],
   "source": [
    "corpus_id_dc = cfg.CORPUS_ID_DC"
   ]
  },
  {
   "cell_type": "code",
   "execution_count": 5,
   "metadata": {},
   "outputs": [],
   "source": [
    "db.connect(corpus_id_dc)\n",
    "# get wide table with basic data\n",
    "df_bt_dc = ap.load_data(cfg.NRM_SPK, ['gender', 'native_lang'])\n",
    "db.close()"
   ]
  },
  {
   "cell_type": "code",
   "execution_count": 6,
   "metadata": {},
   "outputs": [],
   "source": [
    "# compute local convergence, annotate, split by role\n",
    "df_lcon_dc = ap.lcon(df_bt_dc)\n",
    "df_lcon_dc = ana.annotate_local_measure(df_lcon_dc)\n",
    "df_lcon_dc = ana.add_speaker_info(df_lcon_dc, df_bt_dc)\n",
    "df_lcon_ee = df_lcon_dc[df_lcon_dc['speaker_role'] == 'f']\n",
    "df_lcon_er = df_lcon_dc[df_lcon_dc['speaker_role'] == 'd']"
   ]
  },
  {
   "cell_type": "code",
   "execution_count": 7,
   "metadata": {},
   "outputs": [],
   "source": [
    "# compute synchrony, annotate, split by role\n",
    "df_syn_dc = ap.syn(df_bt_dc)\n",
    "df_syn_dc = ana.annotate_local_measure(df_syn_dc)\n",
    "df_syn_dc = ana.add_speaker_info(df_syn_dc, df_bt_dc)\n",
    "df_syn_ee = df_syn_dc[df_syn_dc['speaker_role'] == 'f']\n",
    "df_syn_er = df_syn_dc[df_syn_dc['speaker_role'] == 'd']"
   ]
  },
  {
   "cell_type": "markdown",
   "metadata": {},
   "source": [
    "## Fisher Corpus"
   ]
  },
  {
   "cell_type": "code",
   "execution_count": 8,
   "metadata": {},
   "outputs": [],
   "source": [
    "corpus_id_fc = cfg.CORPUS_ID_FC"
   ]
  },
  {
   "cell_type": "code",
   "execution_count": 9,
   "metadata": {},
   "outputs": [],
   "source": [
    "db.connect(corpus_id_fc)\n",
    "# get wide table with basic data\n",
    "df_bt_fc = ap.load_data(cfg.NRM_SPK, ['gender', 'native_lang'])\n",
    "db.close()"
   ]
  },
  {
   "cell_type": "code",
   "execution_count": 10,
   "metadata": {},
   "outputs": [],
   "source": [
    "# compute local convergence, annotate, balance\n",
    "df_lcon_fc = ap.lcon(df_bt_fc)\n",
    "df_lcon_fc = ana.annotate_local_measure(df_lcon_fc)\n",
    "df_lcon_fc = ana.add_speaker_info(df_lcon_fc, df_bt_fc)\n",
    "df_lcon_fc = ana.filter_half_of_matches(corpus_id_fc, df_lcon_fc)"
   ]
  },
  {
   "cell_type": "code",
   "execution_count": 11,
   "metadata": {},
   "outputs": [],
   "source": [
    "# compute synchrony, annotate, balance\n",
    "df_syn_fc = ap.syn(df_bt_fc)\n",
    "df_syn_fc = ana.annotate_local_measure(df_syn_fc)\n",
    "df_syn_fc = ana.add_speaker_info(df_syn_fc, df_bt_fc)\n",
    "df_syn_fc = ana.filter_half_of_matches(corpus_id_fc, df_syn_fc)"
   ]
  },
  {
   "cell_type": "markdown",
   "metadata": {},
   "source": [
    "# Analysis"
   ]
  },
  {
   "cell_type": "markdown",
   "metadata": {},
   "source": [
    "## Variation by role (Deception Corpus)"
   ]
  },
  {
   "cell_type": "code",
   "execution_count": 12,
   "metadata": {},
   "outputs": [
    {
     "name": "stdout",
     "output_type": "stream",
     "text": [
      "conv.\n",
      "intensity_mean -0.234865 0.8144746088613292 299 -0.019324\n",
      "intensity_max -0.694807 0.48771588173482816 299 -0.058031\n",
      "pitch_mean -0.307756 0.7584824928264672 299 -0.02407\n",
      "pitch_max -0.804309 0.421857492577527 299 -0.067204\n",
      "jitter -1.0145 0.31116448016428333 299 -0.088\n",
      "shimmer 0.049562 0.960504271711655 299 0.003993\n",
      "nhr 0.342355 0.7323243932675143 299 0.027462\n",
      "rate_syl 0.101009 0.9196107144368065 299 0.008512\n",
      "\n",
      "sync.\n",
      "intensity_mean 3.456328 0.0006269452293343133 299 0.280821\n",
      "intensity_max 4.510423 9.305265193682357e-06 299 0.362587\n",
      "pitch_mean 0.483427 0.6291466770607266 299 0.036276\n",
      "pitch_max 0.715279 0.47499486359701826 299 0.057805\n",
      "jitter 2.39484 0.017242983536740086 299 0.195145\n",
      "shimmer 3.60297 0.00036833724116999586 299 0.293313\n",
      "nhr 4.017459 7.448829035856641e-05 299 0.339317\n",
      "rate_syl -6.360756 7.510044218847778e-10 299 -0.524415\n",
      "\n"
     ]
    }
   ],
   "source": [
    "# compare each speaker with themselves as interviewee and interviewer\n",
    "ana.compare_spk_in_both_roles(df_lcon_ee, df_lcon_er, 'conv.')\n",
    "ana.compare_spk_in_both_roles(df_syn_ee, df_syn_er, 'sync.')"
   ]
  },
  {
   "cell_type": "code",
   "execution_count": 13,
   "metadata": {},
   "outputs": [],
   "source": [
    "# balance the dataset\n",
    "df_lcon_ee = ana.filter_half_of_matches(corpus_id_dc, df_lcon_ee)\n",
    "df_lcon_er = ana.filter_half_of_matches(corpus_id_dc, df_lcon_er)\n",
    "df_syn_ee = ana.filter_half_of_matches(corpus_id_dc, df_syn_ee)\n",
    "df_syn_er = ana.filter_half_of_matches(corpus_id_dc, df_syn_er)"
   ]
  },
  {
   "cell_type": "markdown",
   "metadata": {},
   "source": [
    "## Variation across speakers"
   ]
  },
  {
   "cell_type": "code",
   "execution_count": 14,
   "metadata": {},
   "outputs": [
    {
     "name": "stdout",
     "output_type": "stream",
     "text": [
      "Deception Corpus, EE (convergence)\n",
      "Entraining speakers: 47.9%\n",
      "Valence\n",
      "\tpositive: 40.9\n",
      "\tnegative: 53.0\n",
      "\tmixed:    6.1\n",
      "#Features\n",
      "\t1:   52.2\n",
      "\t2:   32.2\n",
      "\t3+:  15.6\n",
      "\tmax: 5\n"
     ]
    }
   ],
   "source": [
    "ana.get_stats(df_lcon_ee, 'Deception Corpus, EE (convergence)')"
   ]
  },
  {
   "cell_type": "code",
   "execution_count": 15,
   "metadata": {},
   "outputs": [
    {
     "name": "stdout",
     "output_type": "stream",
     "text": [
      "Deception Corpus, EE (synchrony)\n",
      "Entraining speakers: 60.4%\n",
      "Valence\n",
      "\tpositive: 69.0\n",
      "\tnegative: 18.6\n",
      "\tmixed:    12.4\n",
      "#Features\n",
      "\t1:   49.7\n",
      "\t2:   30.3\n",
      "\t3+:  20.0\n",
      "\tmax: 6\n"
     ]
    }
   ],
   "source": [
    "ana.get_stats(df_syn_ee, 'Deception Corpus, EE (synchrony)')"
   ]
  },
  {
   "cell_type": "code",
   "execution_count": 16,
   "metadata": {},
   "outputs": [
    {
     "name": "stdout",
     "output_type": "stream",
     "text": [
      "Deception Corpus, ER (convergence)\n",
      "Entraining speakers: 41.7%\n",
      "Valence\n",
      "\tpositive: 39.0\n",
      "\tnegative: 53.0\n",
      "\tmixed:    8.0\n",
      "#Features\n",
      "\t1:   54.0\n",
      "\t2:   33.0\n",
      "\t3+:  13.0\n",
      "\tmax: 5\n"
     ]
    }
   ],
   "source": [
    "ana.get_stats(df_lcon_er, 'Deception Corpus, ER (convergence)')"
   ]
  },
  {
   "cell_type": "code",
   "execution_count": 17,
   "metadata": {},
   "outputs": [
    {
     "name": "stdout",
     "output_type": "stream",
     "text": [
      "Deception Corpus, ER (synchrony)\n",
      "Entraining speakers: 49.2%\n",
      "Valence\n",
      "\tpositive: 67.8\n",
      "\tnegative: 25.4\n",
      "\tmixed:    6.8\n",
      "#Features\n",
      "\t1:   61.0\n",
      "\t2:   27.1\n",
      "\t3+:  11.9\n",
      "\tmax: 3\n"
     ]
    }
   ],
   "source": [
    "ana.get_stats(df_syn_er, 'Deception Corpus, ER (synchrony)')"
   ]
  },
  {
   "cell_type": "code",
   "execution_count": 18,
   "metadata": {},
   "outputs": [
    {
     "name": "stdout",
     "output_type": "stream",
     "text": [
      "Fisher Corpus (convergence)\n",
      "Entraining speakers: 39.4%\n",
      "Valence\n",
      "\tpositive: 38.0\n",
      "\tnegative: 57.7\n",
      "\tmixed:    4.2\n",
      "#Features\n",
      "\t1:   73.2\n",
      "\t2:   22.5\n",
      "\t3+:  4.2\n",
      "\tmax: 5\n"
     ]
    }
   ],
   "source": [
    "ana.get_stats(df_lcon_fc, 'Fisher Corpus (convergence)')"
   ]
  },
  {
   "cell_type": "code",
   "execution_count": 19,
   "metadata": {},
   "outputs": [
    {
     "name": "stdout",
     "output_type": "stream",
     "text": [
      "Fisher Corpus (synchrony)\n",
      "Entraining speakers: 48.3%\n",
      "Valence\n",
      "\tpositive: 66.7\n",
      "\tnegative: 25.3\n",
      "\tmixed:    8.0\n",
      "#Features\n",
      "\t1:   58.6\n",
      "\t2:   29.9\n",
      "\t3+:  11.4\n",
      "\tmax: 5\n"
     ]
    }
   ],
   "source": [
    "ana.get_stats(df_syn_fc, 'Fisher Corpus (synchrony)')"
   ]
  },
  {
   "cell_type": "markdown",
   "metadata": {},
   "source": [
    "## Discrete variation across speaker types"
   ]
  },
  {
   "cell_type": "code",
   "execution_count": 20,
   "metadata": {},
   "outputs": [
    {
     "data": {
      "image/png": "[encoded data removed]",
      "text/plain": [
       "<Figure size 1296x648 with 1 Axes>"
      ]
     },
     "metadata": {
      "needs_background": "light"
     },
     "output_type": "display_data"
    }
   ],
   "source": [
    "title = 'Deception Corpus, EE (convergence)'\n",
    "ana.get_chart(corpus_id_dc, df_lcon_ee, title)"
   ]
  },
  {
   "cell_type": "code",
   "execution_count": 21,
   "metadata": {},
   "outputs": [
    {
     "data": {
      "image/png": "[encoded data removed]",
      "text/plain": [
       "<Figure size 1296x648 with 1 Axes>"
      ]
     },
     "metadata": {
      "needs_background": "light"
     },
     "output_type": "display_data"
    }
   ],
   "source": [
    "title = 'Deception Corpus, EE (synchrony)'\n",
    "ana.get_chart(corpus_id_dc, df_syn_ee, title)"
   ]
  },
  {
   "cell_type": "code",
   "execution_count": 22,
   "metadata": {},
   "outputs": [
    {
     "data": {
      "image/png": "[encoded data removed]",
      "text/plain": [
       "<Figure size 1296x648 with 1 Axes>"
      ]
     },
     "metadata": {
      "needs_background": "light"
     },
     "output_type": "display_data"
    }
   ],
   "source": [
    "title = 'Deception Corpus, ER (convergence)'\n",
    "ana.get_chart(corpus_id_dc, df_lcon_er, title)"
   ]
  },
  {
   "cell_type": "code",
   "execution_count": 23,
   "metadata": {},
   "outputs": [
    {
     "data": {
      "image/png": "[encoded data removed]",
      "text/plain": [
       "<Figure size 1296x648 with 1 Axes>"
      ]
     },
     "metadata": {
      "needs_background": "light"
     },
     "output_type": "display_data"
    }
   ],
   "source": [
    "title = 'Deception Corpus, ER (synchrony)'\n",
    "ana.get_chart(corpus_id_dc, df_syn_er, title)"
   ]
  },
  {
   "cell_type": "code",
   "execution_count": 24,
   "metadata": {},
   "outputs": [
    {
     "data": {
      "image/png": "[encoded data removed]",
      "text/plain": [
       "<Figure size 1296x648 with 1 Axes>"
      ]
     },
     "metadata": {
      "needs_background": "light"
     },
     "output_type": "display_data"
    }
   ],
   "source": [
    "ana.get_chart(corpus_id_fc, df_lcon_fc, 'Fisher Corpus (convergence)')"
   ]
  },
  {
   "cell_type": "code",
   "execution_count": 25,
   "metadata": {},
   "outputs": [
    {
     "data": {
      "image/png": "[encoded data removed]",
      "text/plain": [
       "<Figure size 1296x648 with 1 Axes>"
      ]
     },
     "metadata": {
      "needs_background": "light"
     },
     "output_type": "display_data"
    }
   ],
   "source": [
    "ana.get_chart(corpus_id_fc, df_syn_fc, 'Fisher Corpus (synchrony)')"
   ]
  },
  {
   "cell_type": "markdown",
   "metadata": {},
   "source": [
    "## Continuous variation across speaker types"
   ]
  },
  {
   "cell_type": "code",
   "execution_count": 26,
   "metadata": {},
   "outputs": [],
   "source": [
    "df = ana.prep_for_anova(df_lcon_ee)"
   ]
  },
  {
   "cell_type": "code",
   "execution_count": 27,
   "metadata": {
    "scrolled": true
   },
   "outputs": [
    {
     "name": "stdout",
     "output_type": "stream",
     "text": [
      "[1] \"df$intensity_mean  ~ df$g + df$l + df$g:df$l\"\n",
      "             Df Sum Sq Mean Sq F value Pr(>F)\n",
      "df$g          3  0.024 0.00800   0.191  0.902\n",
      "df$l          3  0.122 0.04076   0.973  0.406\n",
      "df$g:df$l     9  0.302 0.03351   0.800  0.616\n",
      "Residuals   224  9.379 0.04187               \n",
      "\n",
      "\n",
      "\n",
      "\n",
      "[1] \"df$intensity_max  ~ df$g + df$l + df$g:df$l\"\n",
      "             Df Sum Sq Mean Sq F value Pr(>F)\n",
      "df$g          3  0.012 0.00387   0.119  0.949\n",
      "df$l          3  0.079 0.02618   0.807  0.491\n",
      "df$g:df$l     9  0.398 0.04418   1.361  0.207\n",
      "Residuals   224  7.270 0.03246               \n",
      "\n",
      "\n",
      "\n",
      "\n",
      "[1] \"df$pitch_mean  ~ df$g + df$l + df$g:df$l\"\n",
      "             Df Sum Sq Mean Sq F value Pr(>F)  \n",
      "df$g          3  0.031 0.01038   0.604 0.6129  \n",
      "df$l          3  0.134 0.04457   2.594 0.0534 .\n",
      "df$g:df$l     9  0.053 0.00589   0.343 0.9598  \n",
      "Residuals   224  3.849 0.01718                 \n",
      "---\n",
      "Signif. codes:  0 ‘***’ 0.001 ‘**’ 0.01 ‘*’ 0.05 ‘.’ 0.1 ‘ ’ 1\n",
      "\n",
      "\n",
      "\n",
      "\n",
      "[1] \"df$pitch_max  ~ df$g + df$l + df$g:df$l\"\n",
      "             Df Sum Sq Mean Sq F value Pr(>F)\n",
      "df$g          3  0.124 0.04144   2.049  0.108\n",
      "df$l          3  0.051 0.01709   0.845  0.471\n",
      "df$g:df$l     9  0.056 0.00623   0.308  0.972\n",
      "Residuals   224  4.530 0.02022               \n",
      "\n",
      "\n",
      "\n",
      "\n",
      "[1] \"df$jitter  ~ df$g + df$l + df$g:df$l\"\n",
      "             Df Sum Sq  Mean Sq F value Pr(>F)\n",
      "df$g          3  0.026 0.008611   0.501  0.682\n",
      "df$l          3  0.009 0.003002   0.175  0.913\n",
      "df$g:df$l     9  0.210 0.023332   1.357  0.209\n",
      "Residuals   224  3.851 0.017191               \n",
      "\n",
      "\n",
      "\n",
      "\n",
      "[1] \"df$shimmer  ~ df$g + df$l + df$g:df$l\"\n",
      "             Df Sum Sq Mean Sq F value Pr(>F)\n",
      "df$g          3  0.046 0.01520   0.904  0.440\n",
      "df$l          3  0.036 0.01209   0.719  0.542\n",
      "df$g:df$l     9  0.097 0.01079   0.641  0.761\n",
      "Residuals   224  3.767 0.01682               \n",
      "\n",
      "\n",
      "\n",
      "\n",
      "[1] \"df$nhr  ~ df$g + df$l + df$g:df$l\"\n",
      "             Df Sum Sq  Mean Sq F value Pr(>F)\n",
      "df$g          3  0.013 0.004300   0.246  0.864\n",
      "df$l          3  0.017 0.005532   0.316  0.814\n",
      "df$g:df$l     9  0.163 0.018089   1.034  0.414\n",
      "Residuals   224  3.918 0.017491               \n",
      "\n",
      "\n",
      "\n",
      "\n",
      "[1] \"df$rate_syl  ~ df$g + df$l + df$g:df$l\"\n",
      "             Df Sum Sq  Mean Sq F value Pr(>F)\n",
      "df$g          3  0.066 0.021991   1.131  0.337\n",
      "df$l          3  0.013 0.004322   0.222  0.881\n",
      "df$g:df$l     9  0.126 0.013950   0.718  0.693\n",
      "Residuals   224  4.355 0.019441               \n",
      "\n",
      "\n",
      "\n",
      "\n"
     ]
    }
   ],
   "source": [
    "%%R -i df\n",
    "run_anovas(df)"
   ]
  },
  {
   "cell_type": "code",
   "execution_count": 28,
   "metadata": {},
   "outputs": [],
   "source": [
    "df = ana.prep_for_anova(df_lcon_er)"
   ]
  },
  {
   "cell_type": "code",
   "execution_count": 29,
   "metadata": {
    "scrolled": true
   },
   "outputs": [
    {
     "name": "stdout",
     "output_type": "stream",
     "text": [
      "[1] \"df$intensity_mean  ~ df$g + df$l + df$g:df$l\"\n",
      "             Df Sum Sq Mean Sq F value Pr(>F)\n",
      "df$g          3  0.138 0.04584   1.185  0.316\n",
      "df$l          3  0.231 0.07703   1.992  0.116\n",
      "df$g:df$l     9  0.173 0.01917   0.496  0.877\n",
      "Residuals   224  8.663 0.03867               \n",
      "\n",
      "\n",
      "\n",
      "\n",
      "[1] \"df$intensity_max  ~ df$g + df$l + df$g:df$l\"\n",
      "             Df Sum Sq Mean Sq F value Pr(>F)\n",
      "df$g          3  0.294 0.09797   1.984  0.117\n",
      "df$l          3  0.174 0.05805   1.176  0.320\n",
      "df$g:df$l     9  0.388 0.04313   0.873  0.550\n",
      "Residuals   224 11.061 0.04938               \n",
      "\n",
      "\n",
      "\n",
      "\n",
      "[1] \"df$pitch_mean  ~ df$g + df$l + df$g:df$l\"\n",
      "             Df Sum Sq Mean Sq F value Pr(>F)\n",
      "df$g          3  0.086 0.02865   1.418  0.238\n",
      "df$l          3  0.070 0.02325   1.151  0.329\n",
      "df$g:df$l     9  0.141 0.01567   0.776  0.639\n",
      "Residuals   224  4.525 0.02020               \n",
      "\n",
      "\n",
      "\n",
      "\n",
      "[1] \"df$pitch_max  ~ df$g + df$l + df$g:df$l\"\n",
      "             Df Sum Sq  Mean Sq F value Pr(>F)\n",
      "df$g          3  0.011 0.003530   0.223  0.880\n",
      "df$l          3  0.029 0.009512   0.602  0.614\n",
      "df$g:df$l     9  0.187 0.020736   1.312  0.232\n",
      "Residuals   224  3.540 0.015805               \n",
      "\n",
      "\n",
      "\n",
      "\n",
      "[1] \"df$jitter  ~ df$g + df$l + df$g:df$l\"\n",
      "             Df Sum Sq Mean Sq F value Pr(>F)  \n",
      "df$g          3  0.134 0.04466   2.889 0.0364 *\n",
      "df$l          3  0.009 0.00292   0.189 0.9038  \n",
      "df$g:df$l     9  0.229 0.02545   1.647 0.1034  \n",
      "Residuals   224  3.463 0.01546                 \n",
      "---\n",
      "Signif. codes:  0 ‘***’ 0.001 ‘**’ 0.01 ‘*’ 0.05 ‘.’ 0.1 ‘ ’ 1\n",
      "\n",
      "  Tukey multiple comparisons of means\n",
      "    95% family-wise confidence level\n",
      "\n",
      "Fit: aov(formula = formula(frm))\n",
      "\n",
      "$`df$g`\n",
      "               diff         lwr          upr     p adj\n",
      "FM-FF -0.0237491942 -0.08250497  0.035006581 0.7224091\n",
      "MF-FF -0.0230654106 -0.08182119  0.035690365 0.7401804\n",
      "MM-FF -0.0655051330 -0.12426091 -0.006749358 0.0221174\n",
      "MF-FM  0.0006837836 -0.05807199  0.059439559 0.9999902\n",
      "MM-FM -0.0417559388 -0.10051171  0.016999837 0.2576306\n",
      "MM-MF -0.0424397224 -0.10119550  0.016316053 0.2441226\n",
      "\n",
      "\n",
      "\n",
      "\n",
      "\n",
      "[1] \"df$shimmer  ~ df$g + df$l + df$g:df$l\"\n",
      "             Df Sum Sq Mean Sq F value Pr(>F)  \n",
      "df$g          3  0.165 0.05503   2.272 0.0811 .\n",
      "df$l          3  0.038 0.01256   0.519 0.6699  \n",
      "df$g:df$l     9  0.175 0.01941   0.802 0.6152  \n",
      "Residuals   224  5.425 0.02422                 \n",
      "---\n",
      "Signif. codes:  0 ‘***’ 0.001 ‘**’ 0.01 ‘*’ 0.05 ‘.’ 0.1 ‘ ’ 1\n",
      "\n",
      "\n",
      "\n",
      "\n",
      "[1] \"df$nhr  ~ df$g + df$l + df$g:df$l\"\n",
      "             Df Sum Sq Mean Sq F value Pr(>F)\n",
      "df$g          3  0.105 0.03502   1.768  0.154\n",
      "df$l          3  0.043 0.01448   0.731  0.534\n",
      "df$g:df$l     9  0.167 0.01858   0.938  0.493\n",
      "Residuals   224  4.437 0.01981               \n",
      "\n",
      "\n",
      "\n",
      "\n",
      "[1] \"df$rate_syl  ~ df$g + df$l + df$g:df$l\"\n",
      "             Df Sum Sq Mean Sq F value Pr(>F)\n",
      "df$g          3  0.107 0.03553   0.997  0.395\n",
      "df$l          3  0.166 0.05541   1.555  0.201\n",
      "df$g:df$l     9  0.278 0.03088   0.866  0.556\n",
      "Residuals   224  7.982 0.03564               \n",
      "\n",
      "\n",
      "\n",
      "\n"
     ]
    }
   ],
   "source": [
    "%%R -i df\n",
    "run_anovas(df)"
   ]
  },
  {
   "cell_type": "code",
   "execution_count": 30,
   "metadata": {},
   "outputs": [],
   "source": [
    "df = ana.prep_for_anova(df_lcon_fc)"
   ]
  },
  {
   "cell_type": "code",
   "execution_count": 31,
   "metadata": {
    "scrolled": true
   },
   "outputs": [
    {
     "name": "stdout",
     "output_type": "stream",
     "text": [
      "[1] \"df$intensity_mean  ~ df$g + df$l + df$g:df$l\"\n",
      "             Df Sum Sq Mean Sq F value Pr(>F)\n",
      "df$g          3  0.044 0.01467   0.335  0.800\n",
      "df$l          2  0.064 0.03218   0.736  0.481\n",
      "df$g:df$l     6  0.077 0.01289   0.295  0.939\n",
      "Residuals   168  7.348 0.04374               \n",
      "\n",
      "\n",
      "\n",
      "\n",
      "[1] \"df$intensity_max  ~ df$g + df$l + df$g:df$l\"\n",
      "             Df Sum Sq Mean Sq F value Pr(>F)\n",
      "df$g          3  0.048 0.01589   0.408  0.747\n",
      "df$l          2  0.077 0.03852   0.990  0.374\n",
      "df$g:df$l     6  0.149 0.02485   0.639  0.699\n",
      "Residuals   168  6.537 0.03891               \n",
      "\n",
      "\n",
      "\n",
      "\n",
      "[1] \"df$pitch_mean  ~ df$g + df$l + df$g:df$l\"\n",
      "             Df Sum Sq Mean Sq F value Pr(>F)\n",
      "df$g          3  0.150 0.04984   1.266  0.288\n",
      "df$l          2  0.069 0.03470   0.881  0.416\n",
      "df$g:df$l     6  0.274 0.04566   1.160  0.330\n",
      "Residuals   168  6.614 0.03937               \n",
      "\n",
      "\n",
      "\n",
      "\n",
      "[1] \"df$pitch_max  ~ df$g + df$l + df$g:df$l\"\n",
      "             Df Sum Sq Mean Sq F value Pr(>F)\n",
      "df$g          3  0.018 0.00595   0.137  0.938\n",
      "df$l          2  0.026 0.01321   0.305  0.737\n",
      "df$g:df$l     6  0.125 0.02089   0.483  0.821\n",
      "Residuals   168  7.270 0.04328               \n",
      "\n",
      "\n",
      "\n",
      "\n",
      "[1] \"df$jitter  ~ df$g + df$l + df$g:df$l\"\n",
      "             Df Sum Sq Mean Sq F value Pr(>F)  \n",
      "df$g          3  0.292 0.09724   2.171 0.0933 .\n",
      "df$l          2  0.043 0.02127   0.475 0.6228  \n",
      "df$g:df$l     6  0.343 0.05713   1.275 0.2712  \n",
      "Residuals   168  7.525 0.04479                 \n",
      "---\n",
      "Signif. codes:  0 ‘***’ 0.001 ‘**’ 0.01 ‘*’ 0.05 ‘.’ 0.1 ‘ ’ 1\n",
      "\n",
      "\n",
      "\n",
      "\n",
      "[1] \"df$shimmer  ~ df$g + df$l + df$g:df$l\"\n",
      "             Df Sum Sq Mean Sq F value Pr(>F)\n",
      "df$g          3  0.105 0.03499   1.022  0.384\n",
      "df$l          2  0.118 0.05887   1.720  0.182\n",
      "df$g:df$l     6  0.120 0.01992   0.582  0.744\n",
      "Residuals   168  5.751 0.03423               \n",
      "\n",
      "\n",
      "\n",
      "\n",
      "[1] \"df$nhr  ~ df$g + df$l + df$g:df$l\"\n",
      "             Df Sum Sq Mean Sq F value Pr(>F)\n",
      "df$g          3  0.061 0.02049   0.524  0.667\n",
      "df$l          2  0.031 0.01575   0.402  0.669\n",
      "df$g:df$l     6  0.120 0.02007   0.513  0.798\n",
      "Residuals   168  6.575 0.03914               \n",
      "\n",
      "\n",
      "\n",
      "\n",
      "[1] \"df$rate_syl  ~ df$g + df$l + df$g:df$l\"\n",
      "             Df Sum Sq Mean Sq F value Pr(>F)  \n",
      "df$g          3  0.314 0.10482   2.271 0.0821 .\n",
      "df$l          2  0.058 0.02919   0.633 0.5325  \n",
      "df$g:df$l     6  0.199 0.03324   0.720 0.6337  \n",
      "Residuals   168  7.753 0.04615                 \n",
      "---\n",
      "Signif. codes:  0 ‘***’ 0.001 ‘**’ 0.01 ‘*’ 0.05 ‘.’ 0.1 ‘ ’ 1\n",
      "\n",
      "\n",
      "\n",
      "\n"
     ]
    }
   ],
   "source": [
    "%%R -i df\n",
    "run_anovas(df)"
   ]
  },
  {
   "cell_type": "code",
   "execution_count": 32,
   "metadata": {},
   "outputs": [],
   "source": [
    "df = ana.prep_for_anova(df_syn_ee)"
   ]
  },
  {
   "cell_type": "code",
   "execution_count": 33,
   "metadata": {},
   "outputs": [
    {
     "name": "stdout",
     "output_type": "stream",
     "text": [
      "[1] \"df$intensity_mean  ~ df$g + df$l + df$g:df$l\"\n",
      "             Df Sum Sq Mean Sq F value Pr(>F)\n",
      "df$g          3  0.079 0.02641   0.641  0.589\n",
      "df$l          3  0.041 0.01353   0.329  0.805\n",
      "df$g:df$l     9  0.238 0.02643   0.642  0.761\n",
      "Residuals   224  9.227 0.04119               \n",
      "\n",
      "\n",
      "\n",
      "\n",
      "[1] \"df$intensity_max  ~ df$g + df$l + df$g:df$l\"\n",
      "             Df Sum Sq Mean Sq F value Pr(>F)\n",
      "df$g          3  0.022 0.00722   0.223  0.880\n",
      "df$l          3  0.000 0.00011   0.003  1.000\n",
      "df$g:df$l     9  0.218 0.02423   0.750  0.663\n",
      "Residuals   224  7.239 0.03232               \n",
      "\n",
      "\n",
      "\n",
      "\n",
      "[1] \"df$pitch_mean  ~ df$g + df$l + df$g:df$l\"\n",
      "             Df Sum Sq Mean Sq F value Pr(>F)  \n",
      "df$g          3  0.041 0.01367   0.615  0.606  \n",
      "df$l          3  0.212 0.07059   3.174  0.025 *\n",
      "df$g:df$l     9  0.119 0.01322   0.594  0.801  \n",
      "Residuals   224  4.982 0.02224                 \n",
      "---\n",
      "Signif. codes:  0 ‘***’ 0.001 ‘**’ 0.01 ‘*’ 0.05 ‘.’ 0.1 ‘ ’ 1\n",
      "\n",
      "  Tukey multiple comparisons of means\n",
      "    95% family-wise confidence level\n",
      "\n",
      "Fit: aov(formula = formula(frm))\n",
      "\n",
      "$`df$l`\n",
      "             diff         lwr          upr     p adj\n",
      "CE-CC  0.04790404 -0.02257088  0.118378970 0.2957683\n",
      "EC-CC -0.01378769 -0.08426261  0.056687240 0.9575017\n",
      "EE-CC -0.03232964 -0.10280457  0.038145282 0.6354370\n",
      "EC-CE -0.06169173 -0.13216666  0.008783197 0.1092354\n",
      "EE-CE -0.08023369 -0.15070861 -0.009758760 0.0185021\n",
      "EE-EC -0.01854196 -0.08901688  0.051932970 0.9042373\n",
      "\n",
      "\n",
      "\n",
      "\n",
      "\n",
      "[1] \"df$pitch_max  ~ df$g + df$l + df$g:df$l\"\n",
      "             Df Sum Sq Mean Sq F value Pr(>F)  \n",
      "df$g          3  0.171 0.05685   3.431 0.0179 *\n",
      "df$l          3  0.037 0.01232   0.743 0.5274  \n",
      "df$g:df$l     9  0.067 0.00746   0.450 0.9063  \n",
      "Residuals   224  3.712 0.01657                 \n",
      "---\n",
      "Signif. codes:  0 ‘***’ 0.001 ‘**’ 0.01 ‘*’ 0.05 ‘.’ 0.1 ‘ ’ 1\n",
      "\n",
      "  Tukey multiple comparisons of means\n",
      "    95% family-wise confidence level\n",
      "\n",
      "Fit: aov(formula = formula(frm))\n",
      "\n",
      "$`df$g`\n",
      "             diff         lwr         upr     p adj\n",
      "FM-FF -0.02575682 -0.08659197  0.03507834 0.6924108\n",
      "MF-FF -0.04336641 -0.10420157  0.01746874 0.2550630\n",
      "MM-FF -0.07325495 -0.13409011 -0.01241979 0.0110469\n",
      "MF-FM -0.01760960 -0.07844475  0.04322556 0.8769127\n",
      "MM-FM -0.04749813 -0.10833329  0.01333702 0.1833457\n",
      "MM-MF -0.02988854 -0.09072369  0.03094662 0.5819103\n",
      "\n",
      "\n",
      "\n",
      "\n",
      "\n",
      "[1] \"df$jitter  ~ df$g + df$l + df$g:df$l\"\n",
      "             Df Sum Sq Mean Sq F value Pr(>F)\n",
      "df$g          3  0.052 0.01723   0.888  0.448\n",
      "df$l          3  0.047 0.01580   0.814  0.487\n",
      "df$g:df$l     9  0.131 0.01455   0.750  0.663\n",
      "Residuals   224  4.348 0.01941               \n",
      "\n",
      "\n",
      "\n",
      "\n",
      "[1] \"df$shimmer  ~ df$g + df$l + df$g:df$l\"\n",
      "             Df Sum Sq  Mean Sq F value Pr(>F)\n",
      "df$g          3  0.046 0.015195   0.822  0.483\n",
      "df$l          3  0.006 0.002014   0.109  0.955\n",
      "df$g:df$l     9  0.256 0.028450   1.539  0.135\n",
      "Residuals   224  4.140 0.018482               \n",
      "\n",
      "\n",
      "\n",
      "\n",
      "[1] \"df$nhr  ~ df$g + df$l + df$g:df$l\"\n",
      "             Df Sum Sq Mean Sq F value Pr(>F)\n",
      "df$g          3  0.060 0.02002   1.040  0.376\n",
      "df$l          3  0.055 0.01818   0.945  0.420\n",
      "df$g:df$l     9  0.145 0.01613   0.838  0.582\n",
      "Residuals   224  4.310 0.01924               \n",
      "\n",
      "\n",
      "\n",
      "\n",
      "[1] \"df$rate_syl  ~ df$g + df$l + df$g:df$l\"\n",
      "             Df Sum Sq Mean Sq F value Pr(>F)  \n",
      "df$g          3  0.068 0.02261   1.057 0.3681  \n",
      "df$l          3  0.197 0.06580   3.077 0.0284 *\n",
      "df$g:df$l     9  0.157 0.01748   0.817 0.6007  \n",
      "Residuals   224  4.790 0.02138                 \n",
      "---\n",
      "Signif. codes:  0 ‘***’ 0.001 ‘**’ 0.01 ‘*’ 0.05 ‘.’ 0.1 ‘ ’ 1\n",
      "\n",
      "  Tukey multiple comparisons of means\n",
      "    95% family-wise confidence level\n",
      "\n",
      "Fit: aov(formula = formula(frm))\n",
      "\n",
      "$`df$l`\n",
      "               diff         lwr         upr     p adj\n",
      "CE-CC -6.556976e-02 -0.13467554 0.003536016 0.0698403\n",
      "EC-CC -1.989789e-02 -0.08900367 0.049207884 0.8785947\n",
      "EE-CC -6.553887e-02 -0.13464465 0.003566909 0.0700389\n",
      "EC-CE  4.567187e-02 -0.02343391 0.114777646 0.3205207\n",
      "EE-CE  3.089249e-05 -0.06907489 0.069136671 1.0000000\n",
      "EE-EC -4.564097e-02 -0.11474675 0.023464803 0.3211218\n",
      "\n",
      "\n",
      "\n",
      "\n",
      "\n"
     ]
    }
   ],
   "source": [
    "%%R -i df\n",
    "run_anovas(df)"
   ]
  },
  {
   "cell_type": "code",
   "execution_count": 34,
   "metadata": {},
   "outputs": [],
   "source": [
    "df = ana.prep_for_anova(df_syn_er)"
   ]
  },
  {
   "cell_type": "code",
   "execution_count": 35,
   "metadata": {},
   "outputs": [
    {
     "name": "stdout",
     "output_type": "stream",
     "text": [
      "[1] \"df$intensity_mean  ~ df$g + df$l + df$g:df$l\"\n",
      "             Df Sum Sq  Mean Sq F value Pr(>F)\n",
      "df$g          3  0.029 0.009546   0.318  0.813\n",
      "df$l          3  0.060 0.019975   0.664  0.575\n",
      "df$g:df$l     9  0.250 0.027749   0.923  0.506\n",
      "Residuals   224  6.734 0.030062               \n",
      "\n",
      "\n",
      "\n",
      "\n",
      "[1] \"df$intensity_max  ~ df$g + df$l + df$g:df$l\"\n",
      "             Df Sum Sq  Mean Sq F value Pr(>F)\n",
      "df$g          3  0.011 0.003789   0.142  0.935\n",
      "df$l          3  0.054 0.017873   0.670  0.571\n",
      "df$g:df$l     9  0.223 0.024797   0.930  0.500\n",
      "Residuals   224  5.974 0.026669               \n",
      "\n",
      "\n",
      "\n",
      "\n",
      "[1] \"df$pitch_mean  ~ df$g + df$l + df$g:df$l\"\n",
      "             Df Sum Sq Mean Sq F value Pr(>F)  \n",
      "df$g          3  0.014 0.00458   0.218 0.8839  \n",
      "df$l          3  0.166 0.05542   2.636 0.0506 .\n",
      "df$g:df$l     9  0.139 0.01542   0.733 0.6781  \n",
      "Residuals   224  4.710 0.02103                 \n",
      "---\n",
      "Signif. codes:  0 ‘***’ 0.001 ‘**’ 0.01 ‘*’ 0.05 ‘.’ 0.1 ‘ ’ 1\n",
      "\n",
      "\n",
      "\n",
      "\n",
      "[1] \"df$pitch_max  ~ df$g + df$l + df$g:df$l\"\n",
      "             Df Sum Sq Mean Sq F value Pr(>F)\n",
      "df$g          3  0.052 0.01735   0.940  0.422\n",
      "df$l          3  0.035 0.01180   0.639  0.590\n",
      "df$g:df$l     9  0.218 0.02418   1.310  0.233\n",
      "Residuals   224  4.134 0.01846               \n",
      "\n",
      "\n",
      "\n",
      "\n",
      "[1] \"df$jitter  ~ df$g + df$l + df$g:df$l\"\n",
      "             Df Sum Sq Mean Sq F value Pr(>F)\n",
      "df$g          3  0.167 0.05574   1.667  0.175\n",
      "df$l          3  0.025 0.00844   0.252  0.860\n",
      "df$g:df$l     9  0.276 0.03067   0.917  0.511\n",
      "Residuals   224  7.490 0.03344               \n",
      "\n",
      "\n",
      "\n",
      "\n",
      "[1] \"df$shimmer  ~ df$g + df$l + df$g:df$l\"\n",
      "             Df Sum Sq Mean Sq F value  Pr(>F)   \n",
      "df$g          3  0.269 0.08950   4.208 0.00640 **\n",
      "df$l          3  0.062 0.02066   0.971 0.40710   \n",
      "df$g:df$l     9  0.484 0.05374   2.526 0.00891 **\n",
      "Residuals   224  4.764 0.02127                   \n",
      "---\n",
      "Signif. codes:  0 ‘***’ 0.001 ‘**’ 0.01 ‘*’ 0.05 ‘.’ 0.1 ‘ ’ 1\n",
      "\n",
      "  Tukey multiple comparisons of means\n",
      "    95% family-wise confidence level\n",
      "\n",
      "Fit: aov(formula = formula(frm))\n",
      "\n",
      "$`df$g`\n",
      "               diff          lwr        upr     p adj\n",
      "FM-FF -0.0558074218 -0.124728319 0.01311348 0.1575762\n",
      "MF-FF -0.0550771789 -0.123998076 0.01384372 0.1666756\n",
      "MM-FF  0.0199076333 -0.049013264 0.08882853 0.8775918\n",
      "MF-FM  0.0007302429 -0.068190654 0.06965114 0.9999926\n",
      "MM-FM  0.0757150551  0.006794158 0.14463595 0.0249641\n",
      "MM-MF  0.0749848122  0.006063915 0.14390571 0.0269838\n",
      "\n",
      "\n",
      "  Tukey multiple comparisons of means\n",
      "    95% family-wise confidence level\n",
      "\n",
      "Fit: aov(formula = formula(frm))\n",
      "\n",
      "$`df$g:df$l`\n",
      "                     diff         lwr          upr     p adj\n",
      "FM:CC-FF:CC  0.0727549937 -0.11179901  0.257308993 0.9926015\n",
      "MF:CC-FF:CC -0.0269875195 -0.21154152  0.157566480 1.0000000\n",
      "MM:CC-FF:CC  0.1045351148 -0.08001888  0.289089114 0.8426427\n",
      "FF:CE-FF:CC  0.0764606543 -0.10809334  0.261014654 0.9878625\n",
      "FM:CE-FF:CC -0.0100003908 -0.19455439  0.174553608 1.0000000\n",
      "MF:CE-FF:CC  0.0779614080 -0.10659259  0.262515407 0.9853542\n",
      "MM:CE-FF:CC  0.0460977492 -0.13845625  0.230651748 0.9999643\n",
      "FF:EC-FF:CC  0.0783228641 -0.10623114  0.262876863 0.9846923\n",
      "FM:EC-FF:CC  0.0341111764 -0.15044282  0.218665176 0.9999994\n",
      "MF:EC-FF:CC -0.0489192896 -0.23347329  0.135634710 0.9999239\n",
      "MM:EC-FF:CC  0.0381955800 -0.14635842  0.222749579 0.9999970\n",
      "FF:EE-FF:CC  0.0513387337 -0.13321527  0.235892733 0.9998607\n",
      "FM:EE-FF:CC -0.1139732144 -0.29852721  0.070580785 0.7370398\n",
      "MF:EE-FF:CC -0.0162410626 -0.20079506  0.168312937 1.0000000\n",
      "MM:EE-FF:CC  0.0969243413 -0.08762966  0.281478341 0.9066755\n",
      "MF:CC-FM:CC -0.0997425132 -0.28429651  0.084811486 0.8853351\n",
      "MM:CC-FM:CC  0.0317801211 -0.15277388  0.216334120 0.9999998\n",
      "FF:CE-FM:CC  0.0037056606 -0.18084834  0.188259660 1.0000000\n",
      "FM:CE-FM:CC -0.0827553845 -0.26730938  0.101798615 0.9744864\n",
      "MF:CE-FM:CC  0.0052064143 -0.17934758  0.189760414 1.0000000\n",
      "MM:CE-FM:CC -0.0266572445 -0.21121124  0.157896755 1.0000000\n",
      "FF:EC-FM:CC  0.0055678704 -0.17898613  0.190121870 1.0000000\n",
      "FM:EC-FM:CC -0.0386438173 -0.22319782  0.145910182 0.9999965\n",
      "MF:EC-FM:CC -0.1216742833 -0.30622828  0.062879716 0.6353096\n",
      "MM:EC-FM:CC -0.0345594137 -0.21911341  0.149994586 0.9999992\n",
      "FF:EE-FM:CC -0.0214162600 -0.20597026  0.163137739 1.0000000\n",
      "FM:EE-FM:CC -0.1867282081 -0.37128221 -0.002174209 0.0441110\n",
      "MF:EE-FM:CC -0.0889960563 -0.27355006  0.095557943 0.9521283\n",
      "MM:EE-FM:CC  0.0241693477 -0.16038465  0.208723347 1.0000000\n",
      "MM:CC-MF:CC  0.1315226343 -0.05303136  0.316076634 0.4977313\n",
      "FF:CE-MF:CC  0.1034481738 -0.08110583  0.288002173 0.8530216\n",
      "FM:CE-MF:CC  0.0169871287 -0.16756687  0.201541128 1.0000000\n",
      "MF:CE-MF:CC  0.1049489275 -0.07960507  0.289502927 0.8385865\n",
      "MM:CE-MF:CC  0.0730852687 -0.11146873  0.257639268 0.9922532\n",
      "FF:EC-MF:CC  0.1053103836 -0.07924362  0.289864383 0.8349967\n",
      "FM:EC-MF:CC  0.0610986959 -0.12345530  0.245652695 0.9988847\n",
      "MF:EC-MF:CC -0.0219317701 -0.20648577  0.162622229 1.0000000\n",
      "MM:EC-MF:CC  0.0651830995 -0.11937090  0.249737099 0.9976930\n",
      "FF:EE-MF:CC  0.0783262532 -0.10622775  0.262880252 0.9846860\n",
      "FM:EE-MF:CC -0.0869856949 -0.27153969  0.097568304 0.9604907\n",
      "MF:EE-MF:CC  0.0107464569 -0.17380754  0.195300456 1.0000000\n",
      "MM:EE-MF:CC  0.1239118609 -0.06064214  0.308465860 0.6042806\n",
      "FF:CE-MM:CC -0.0280744605 -0.21262846  0.156479539 1.0000000\n",
      "FM:CE-MM:CC -0.1145355056 -0.29908950  0.070018494 0.7299866\n",
      "MF:CE-MM:CC -0.0265737068 -0.21112771  0.157980292 1.0000000\n",
      "MM:CE-MM:CC -0.0584373657 -0.24299136  0.126116634 0.9993342\n",
      "FF:EC-MM:CC -0.0262122507 -0.21076625  0.158341748 1.0000000\n",
      "FM:EC-MM:CC -0.0704239384 -0.25497794  0.114130061 0.9947107\n",
      "MF:EC-MM:CC -0.1534544044 -0.33800840  0.031099595 0.2328098\n",
      "MM:EC-MM:CC -0.0663395348 -0.25089353  0.118214464 0.9972031\n",
      "FF:EE-MM:CC -0.0531963811 -0.23775038  0.131357618 0.9997841\n",
      "FM:EE-MM:CC -0.2185083292 -0.40306233 -0.033954330 0.0056320\n",
      "MF:EE-MM:CC -0.1207761774 -0.30533018  0.063777822 0.6476347\n",
      "MM:EE-MM:CC -0.0076107735 -0.19216477  0.176943226 1.0000000\n",
      "FM:CE-FF:CE -0.0864610452 -0.27101504  0.098092954 0.9624827\n",
      "MF:CE-FF:CE  0.0015007537 -0.18305325  0.186054753 1.0000000\n",
      "MM:CE-FF:CE -0.0303629052 -0.21491690  0.154191094 0.9999999\n",
      "FF:EC-FF:CE  0.0018622098 -0.18269179  0.186416209 1.0000000\n",
      "FM:EC-FF:CE -0.0423494779 -0.22690348  0.142204521 0.9999882\n",
      "MF:EC-FF:CE -0.1253799439 -0.30993394  0.059174055 0.5837491\n",
      "MM:EC-FF:CE -0.0382650743 -0.22281907  0.146288925 0.9999970\n",
      "FF:EE-FF:CE -0.0251219206 -0.20967592  0.159432079 1.0000000\n",
      "FM:EE-FF:CE -0.1904338688 -0.37498787 -0.005879870 0.0354543\n",
      "MF:EE-FF:CE -0.0927017169 -0.27725572  0.091852282 0.9334745\n",
      "MM:EE-FF:CE  0.0204636870 -0.16409031  0.205017686 1.0000000\n",
      "MF:CE-FM:CE  0.0879617989 -0.09659220  0.272515798 0.9565774\n",
      "MM:CE-FM:CE  0.0560981400 -0.12845586  0.240652139 0.9995895\n",
      "FF:EC-FM:CE  0.0883232549 -0.09623074  0.272877254 0.9550585\n",
      "FM:EC-FM:CE  0.0441115672 -0.14044243  0.228665566 0.9999799\n",
      "MF:EC-FM:CE -0.0389188988 -0.22347290  0.145635100 0.9999962\n",
      "MM:EC-FM:CE  0.0481959708 -0.13635803  0.232749970 0.9999370\n",
      "FF:EE-FM:CE  0.0613391245 -0.12321487  0.245893124 0.9988335\n",
      "FM:EE-FM:CE -0.1039728236 -0.28852682  0.080581176 0.8480620\n",
      "MF:EE-FM:CE -0.0062406718 -0.19079467  0.178313327 1.0000000\n",
      "MM:EE-FM:CE  0.1069247322 -0.07762927  0.291478731 0.8184409\n",
      "MM:CE-MF:CE -0.0318636589 -0.21641766  0.152690340 0.9999998\n",
      "FF:EC-MF:CE  0.0003614561 -0.18419254  0.184915455 1.0000000\n",
      "FM:EC-MF:CE -0.0438502316 -0.22840423  0.140703768 0.9999814\n",
      "MF:EC-MF:CE -0.1268806976 -0.31143470  0.057673302 0.5626890\n",
      "MM:EC-MF:CE -0.0397658280 -0.22431983  0.144788171 0.9999949\n",
      "FF:EE-MF:CE -0.0266226743 -0.21117667  0.157931325 1.0000000\n",
      "FM:EE-MF:CE -0.1919346225 -0.37648862 -0.007380623 0.0323965\n",
      "MF:EE-MF:CE -0.0942024706 -0.27875647  0.090351529 0.9246479\n",
      "MM:EE-MF:CE  0.0189629333 -0.16559107  0.203516932 1.0000000\n",
      "FF:EC-MM:CE  0.0322251150 -0.15232888  0.216779114 0.9999997\n",
      "FM:EC-MM:CE -0.0119865728 -0.19654057  0.172567426 1.0000000\n",
      "MF:EC-MM:CE -0.0950170387 -0.27957104  0.089536960 0.9195377\n",
      "MM:EC-MM:CE -0.0079021691 -0.19245617  0.176651830 1.0000000\n",
      "FF:EE-MM:CE  0.0052409845 -0.17931301  0.189794984 1.0000000\n",
      "FM:EE-MM:CE -0.1600709636 -0.34462496  0.024483036 0.1751124\n",
      "MF:EE-MM:CE -0.0623388117 -0.24689281  0.122215187 0.9985981\n",
      "MM:EE-MM:CE  0.0508265922 -0.13372741  0.235380591 0.9998770\n"
     ]
    },
    {
     "name": "stdout",
     "output_type": "stream",
     "text": [
      "FM:EC-FF:EC -0.0442116877 -0.22876569  0.140342311 0.9999792\n",
      "MF:EC-FF:EC -0.1272421537 -0.31179615  0.057311845 0.5576126\n",
      "MM:EC-FF:EC -0.0401272841 -0.22468128  0.144426715 0.9999942\n",
      "FF:EE-FF:EC -0.0269841304 -0.21153813  0.157569869 1.0000000\n",
      "FM:EE-FF:EC -0.1922960786 -0.37685008 -0.007742079 0.0316957\n",
      "MF:EE-FF:EC -0.0945639267 -0.27911793  0.089990072 0.9224083\n",
      "MM:EE-FF:EC  0.0186014772 -0.16595252  0.203155476 1.0000000\n",
      "MF:EC-FM:EC -0.0830304660 -0.26758447  0.101523533 0.9737127\n",
      "MM:EC-FM:EC  0.0040844036 -0.18046960  0.188638403 1.0000000\n",
      "FF:EE-FM:EC  0.0172275573 -0.16732644  0.201781556 1.0000000\n",
      "FM:EE-FM:EC -0.1480843908 -0.33263839  0.036469608 0.2880159\n",
      "MF:EE-FM:EC -0.0503522390 -0.23490624  0.134201760 0.9998906\n",
      "MM:EE-FM:EC  0.0628131649 -0.12174083  0.247367164 0.9984729\n",
      "MM:EC-MF:EC  0.0871148696 -0.09743913  0.271668869 0.9599884\n",
      "FF:EE-MF:EC  0.1002580233 -0.08429598  0.284812022 0.8811280\n",
      "FM:EE-MF:EC -0.0650539249 -0.24960792  0.119500074 0.9977429\n",
      "MF:EE-MF:EC  0.0326782270 -0.15187577  0.217232226 0.9999997\n",
      "MM:EE-MF:EC  0.1458436309 -0.03871037  0.330397630 0.3131881\n",
      "FF:EE-MM:EC  0.0131431537 -0.17141085  0.197697153 1.0000000\n",
      "FM:EE-MM:EC -0.1521687944 -0.33672279  0.032385205 0.2453504\n",
      "MF:EE-MM:EC -0.0544366426 -0.23899064  0.130117357 0.9997141\n",
      "MM:EE-MM:EC  0.0587287613 -0.12582524  0.243282761 0.9992943\n",
      "FM:EE-FF:EE -0.1653119481 -0.34986595  0.019242051 0.1373867\n",
      "MF:EE-FF:EE -0.0675797963 -0.25213380  0.116974203 0.9965825\n",
      "MM:EE-FF:EE  0.0455856076 -0.13896839  0.230139607 0.9999691\n",
      "MF:EE-FM:EE  0.0977321519 -0.08682185  0.282286151 0.9008447\n",
      "MM:EE-FM:EE  0.2108975558  0.02634356  0.395451555 0.0095611\n",
      "MM:EE-MF:EE  0.1131654039 -0.07138860  0.297719403 0.7470440\n",
      "\n",
      "\n",
      "\n",
      "\n",
      "\n",
      "[1] \"df$nhr  ~ df$g + df$l + df$g:df$l\"\n",
      "             Df Sum Sq Mean Sq F value Pr(>F)\n",
      "df$g          3  0.033 0.01115   0.591  0.621\n",
      "df$l          3  0.036 0.01202   0.638  0.592\n",
      "df$g:df$l     9  0.275 0.03058   1.622  0.110\n",
      "Residuals   224  4.224 0.01886               \n",
      "\n",
      "\n",
      "\n",
      "\n",
      "[1] \"df$rate_syl  ~ df$g + df$l + df$g:df$l\"\n",
      "             Df Sum Sq  Mean Sq F value Pr(>F)\n",
      "df$g          3  0.038 0.012814   0.725  0.538\n",
      "df$l          3  0.079 0.026233   1.485  0.219\n",
      "df$g:df$l     9  0.088 0.009774   0.553  0.834\n",
      "Residuals   224  3.957 0.017664               \n",
      "\n",
      "\n",
      "\n",
      "\n"
     ]
    }
   ],
   "source": [
    "%%R -i df\n",
    "run_anovas(df)"
   ]
  },
  {
   "cell_type": "code",
   "execution_count": 36,
   "metadata": {},
   "outputs": [],
   "source": [
    "df = ana.prep_for_anova(df_syn_fc)"
   ]
  },
  {
   "cell_type": "code",
   "execution_count": 37,
   "metadata": {},
   "outputs": [
    {
     "name": "stdout",
     "output_type": "stream",
     "text": [
      "[1] \"df$intensity_mean  ~ df$g + df$l + df$g:df$l\"\n",
      "             Df Sum Sq Mean Sq F value Pr(>F)  \n",
      "df$g          3  0.588 0.19603   3.773 0.0118 *\n",
      "df$l          2  0.064 0.03185   0.613 0.5429  \n",
      "df$g:df$l     6  0.253 0.04209   0.810 0.5634  \n",
      "Residuals   168  8.729 0.05196                 \n",
      "---\n",
      "Signif. codes:  0 ‘***’ 0.001 ‘**’ 0.01 ‘*’ 0.05 ‘.’ 0.1 ‘ ’ 1\n",
      "\n",
      "  Tukey multiple comparisons of means\n",
      "    95% family-wise confidence level\n",
      "\n",
      "Fit: aov(formula = formula(frm))\n",
      "\n",
      "$`df$g`\n",
      "             diff          lwr        upr     p adj\n",
      "FM-FF -0.01772211 -0.142423265 0.10697905 0.9828155\n",
      "MF-FF -0.03203327 -0.156734428 0.09266788 0.9095155\n",
      "MM-FF  0.11279085 -0.011910308 0.23749200 0.0916656\n",
      "MF-FM -0.01431116 -0.139012319 0.11038999 0.9907874\n",
      "MM-FM  0.13051296  0.005811801 0.25521411 0.0363696\n",
      "MM-MF  0.14482412  0.020122964 0.26952528 0.0156365\n",
      "\n",
      "\n",
      "\n",
      "\n",
      "\n",
      "[1] \"df$intensity_max  ~ df$g + df$l + df$g:df$l\"\n",
      "             Df Sum Sq Mean Sq F value Pr(>F)  \n",
      "df$g          3  0.367 0.12226   2.275 0.0818 .\n",
      "df$l          2  0.032 0.01619   0.301 0.7403  \n",
      "df$g:df$l     6  0.391 0.06518   1.213 0.3021  \n",
      "Residuals   168  9.029 0.05375                 \n",
      "---\n",
      "Signif. codes:  0 ‘***’ 0.001 ‘**’ 0.01 ‘*’ 0.05 ‘.’ 0.1 ‘ ’ 1\n",
      "\n",
      "\n",
      "\n",
      "\n",
      "[1] \"df$pitch_mean  ~ df$g + df$l + df$g:df$l\"\n",
      "             Df Sum Sq Mean Sq F value Pr(>F)  \n",
      "df$g          3  0.532 0.17750   3.036 0.0307 *\n",
      "df$l          2  0.298 0.14894   2.547 0.0813 .\n",
      "df$g:df$l     6  0.054 0.00899   0.154 0.9881  \n",
      "Residuals   168  9.823 0.05847                 \n",
      "---\n",
      "Signif. codes:  0 ‘***’ 0.001 ‘**’ 0.01 ‘*’ 0.05 ‘.’ 0.1 ‘ ’ 1\n",
      "\n",
      "  Tukey multiple comparisons of means\n",
      "    95% family-wise confidence level\n",
      "\n",
      "Fit: aov(formula = formula(frm))\n",
      "\n",
      "$`df$g`\n",
      "             diff         lwr         upr     p adj\n",
      "FM-FF -0.10502565 -0.23730656  0.02725526 0.1705365\n",
      "MF-FF -0.14981303 -0.28209394 -0.01753212 0.0194837\n",
      "MM-FF -0.08199395 -0.21427485  0.05028696 0.3766362\n",
      "MF-FM -0.04478738 -0.17706829  0.08749353 0.8159571\n",
      "MM-FM  0.02303171 -0.10924920  0.15531262 0.9691991\n",
      "MM-MF  0.06781909 -0.06446182  0.20009999 0.5449260\n",
      "\n",
      "\n",
      "\n",
      "\n",
      "\n",
      "[1] \"df$pitch_max  ~ df$g + df$l + df$g:df$l\"\n",
      "             Df Sum Sq Mean Sq F value Pr(>F)\n",
      "df$g          3  0.138 0.04586   1.224  0.303\n",
      "df$l          2  0.057 0.02841   0.758  0.470\n",
      "df$g:df$l     6  0.187 0.03113   0.831  0.548\n",
      "Residuals   168  6.294 0.03746               \n",
      "\n",
      "\n",
      "\n",
      "\n",
      "[1] \"df$jitter  ~ df$g + df$l + df$g:df$l\"\n",
      "             Df Sum Sq Mean Sq F value Pr(>F)\n",
      "df$g          3  0.012 0.00412   0.124  0.946\n",
      "df$l          2  0.062 0.03096   0.934  0.395\n",
      "df$g:df$l     6  0.111 0.01843   0.556  0.765\n",
      "Residuals   168  5.571 0.03316               \n",
      "\n",
      "\n",
      "\n",
      "\n",
      "[1] \"df$shimmer  ~ df$g + df$l + df$g:df$l\"\n",
      "             Df Sum Sq Mean Sq F value Pr(>F)\n",
      "df$g          3  0.082 0.02720   0.785  0.504\n",
      "df$l          2  0.067 0.03332   0.962  0.384\n",
      "df$g:df$l     6  0.193 0.03218   0.929  0.476\n",
      "Residuals   168  5.821 0.03465               \n",
      "\n",
      "\n",
      "\n",
      "\n",
      "[1] \"df$nhr  ~ df$g + df$l + df$g:df$l\"\n",
      "             Df Sum Sq Mean Sq F value Pr(>F)  \n",
      "df$g          3  0.110 0.03680   0.862  0.462  \n",
      "df$l          2  0.309 0.15443   3.617  0.029 *\n",
      "df$g:df$l     6  0.200 0.03328   0.780  0.587  \n",
      "Residuals   168  7.172 0.04269                 \n",
      "---\n",
      "Signif. codes:  0 ‘***’ 0.001 ‘**’ 0.01 ‘*’ 0.05 ‘.’ 0.1 ‘ ’ 1\n",
      "\n",
      "  Tukey multiple comparisons of means\n",
      "    95% family-wise confidence level\n",
      "\n",
      "Fit: aov(formula = formula(frm))\n",
      "\n",
      "$`df$l`\n",
      "             diff         lwr         upr     p adj\n",
      "EC-CE -0.10082481 -0.19002796 -0.01162166 0.0223952\n",
      "EE-CE -0.04056029 -0.12976345  0.04864286 0.5307636\n",
      "EE-EC  0.06026451 -0.02893864  0.14946767 0.2495176\n",
      "\n",
      "\n",
      "\n",
      "\n",
      "\n",
      "[1] \"df$rate_syl  ~ df$g + df$l + df$g:df$l\"\n",
      "             Df Sum Sq Mean Sq F value Pr(>F)  \n",
      "df$g          3  0.063 0.02110   0.535 0.6589  \n",
      "df$l          2  0.027 0.01355   0.344 0.7097  \n",
      "df$g:df$l     6  0.469 0.07817   1.982 0.0708 .\n",
      "Residuals   168  6.625 0.03943                 \n",
      "---\n",
      "Signif. codes:  0 ‘***’ 0.001 ‘**’ 0.01 ‘*’ 0.05 ‘.’ 0.1 ‘ ’ 1\n",
      "\n",
      "\n",
      "\n",
      "\n"
     ]
    }
   ],
   "source": [
    "%%R -i df\n",
    "run_anovas(df)"
   ]
  },
  {
   "cell_type": "code",
   "execution_count": 38,
   "metadata": {},
   "outputs": [],
   "source": [
    "df = ana.prep_for_anova(df_syn_ee, lambda x: abs(aux.r2z(x)))"
   ]
  },
  {
   "cell_type": "code",
   "execution_count": 39,
   "metadata": {
    "scrolled": true
   },
   "outputs": [
    {
     "name": "stdout",
     "output_type": "stream",
     "text": [
      "[1] \"df$intensity_mean  ~ df$g + df$l + df$g:df$l\"\n",
      "             Df Sum Sq  Mean Sq F value Pr(>F)\n",
      "df$g          3  0.052 0.017224   0.812  0.488\n",
      "df$l          3  0.022 0.007324   0.345  0.793\n",
      "df$g:df$l     9  0.076 0.008404   0.396  0.936\n",
      "Residuals   224  4.752 0.021215               \n",
      "\n",
      "\n",
      "\n",
      "\n",
      "[1] \"df$intensity_max  ~ df$g + df$l + df$g:df$l\"\n",
      "             Df Sum Sq  Mean Sq F value Pr(>F)\n",
      "df$g          3  0.048 0.015862   0.955  0.415\n",
      "df$l          3  0.044 0.014526   0.875  0.455\n",
      "df$g:df$l     9  0.062 0.006864   0.413  0.927\n",
      "Residuals   224  3.721 0.016609               \n",
      "\n",
      "\n",
      "\n",
      "\n",
      "[1] \"df$pitch_mean  ~ df$g + df$l + df$g:df$l\"\n",
      "             Df Sum Sq  Mean Sq F value Pr(>F)  \n",
      "df$g          3 0.0033 0.001096   0.123 0.9468  \n",
      "df$l          3 0.0834 0.027813   3.108 0.0273 *\n",
      "df$g:df$l     9 0.0491 0.005454   0.609 0.7884  \n",
      "Residuals   224 2.0046 0.008949                 \n",
      "---\n",
      "Signif. codes:  0 ‘***’ 0.001 ‘**’ 0.01 ‘*’ 0.05 ‘.’ 0.1 ‘ ’ 1\n",
      "\n",
      "  Tukey multiple comparisons of means\n",
      "    95% family-wise confidence level\n",
      "\n",
      "Fit: aov(formula = formula(frm))\n",
      "\n",
      "$`df$l`\n",
      "              diff          lwr        upr     p adj\n",
      "CE-CC  0.052129370  0.007423052 0.09683569 0.0149513\n",
      "EC-CC  0.023951729 -0.020754590 0.06865805 0.5089558\n",
      "EE-CC  0.031571050 -0.013135269 0.07627737 0.2629562\n",
      "EC-CE -0.028177642 -0.072883960 0.01652868 0.3630786\n",
      "EE-CE -0.020558321 -0.065264639 0.02414800 0.6336181\n",
      "EE-EC  0.007619321 -0.037086997 0.05232564 0.9712492\n",
      "\n",
      "\n",
      "\n",
      "\n",
      "\n",
      "[1] \"df$pitch_max  ~ df$g + df$l + df$g:df$l\"\n",
      "             Df Sum Sq  Mean Sq F value Pr(>F)  \n",
      "df$g          3 0.0408 0.013607   2.530 0.0581 .\n",
      "df$l          3 0.0115 0.003835   0.713 0.5452  \n",
      "df$g:df$l     9 0.0348 0.003866   0.719 0.6915  \n",
      "Residuals   224 1.2049 0.005379                 \n",
      "---\n",
      "Signif. codes:  0 ‘***’ 0.001 ‘**’ 0.01 ‘*’ 0.05 ‘.’ 0.1 ‘ ’ 1\n",
      "\n",
      "\n",
      "\n",
      "\n",
      "[1] \"df$jitter  ~ df$g + df$l + df$g:df$l\"\n",
      "             Df Sum Sq  Mean Sq F value Pr(>F)  \n",
      "df$g          3 0.0336 0.011202   1.411 0.2404  \n",
      "df$l          3 0.0880 0.029327   3.694 0.0126 *\n",
      "df$g:df$l     9 0.0477 0.005303   0.668 0.7376  \n",
      "Residuals   224 1.7786 0.007940                 \n",
      "---\n",
      "Signif. codes:  0 ‘***’ 0.001 ‘**’ 0.01 ‘*’ 0.05 ‘.’ 0.1 ‘ ’ 1\n",
      "\n",
      "  Tukey multiple comparisons of means\n",
      "    95% family-wise confidence level\n",
      "\n",
      "Fit: aov(formula = formula(frm))\n",
      "\n",
      "$`df$l`\n",
      "              diff         lwr        upr     p adj\n",
      "CE-CC  0.033038302 -0.00907161 0.07514821 0.1797982\n",
      "EC-CC  0.053214559  0.01110465 0.09532447 0.0067593\n",
      "EE-CC  0.023226735 -0.01888318 0.06533665 0.4834022\n",
      "EC-CE  0.020176257 -0.02193366 0.06228617 0.6019690\n",
      "EE-CE -0.009811567 -0.05192148 0.03229835 0.9310039\n",
      "EE-EC -0.029987824 -0.07209774 0.01212209 0.2559074\n",
      "\n",
      "\n",
      "\n",
      "\n",
      "\n",
      "[1] \"df$shimmer  ~ df$g + df$l + df$g:df$l\"\n",
      "             Df Sum Sq  Mean Sq F value Pr(>F)  \n",
      "df$g          3 0.0180 0.006006   0.773  0.510  \n",
      "df$l          3 0.0578 0.019255   2.480  0.062 .\n",
      "df$g:df$l     9 0.0284 0.003154   0.406  0.931  \n",
      "Residuals   224 1.7393 0.007765                 \n",
      "---\n",
      "Signif. codes:  0 ‘***’ 0.001 ‘**’ 0.01 ‘*’ 0.05 ‘.’ 0.1 ‘ ’ 1\n",
      "\n",
      "\n",
      "\n",
      "\n",
      "[1] \"df$nhr  ~ df$g + df$l + df$g:df$l\"\n",
      "             Df Sum Sq  Mean Sq F value Pr(>F)  \n",
      "df$g          3 0.0606 0.020188   2.572  0.055 .\n",
      "df$l          3 0.0292 0.009728   1.239  0.296  \n",
      "df$g:df$l     9 0.0276 0.003068   0.391  0.939  \n",
      "Residuals   224 1.7584 0.007850                 \n",
      "---\n",
      "Signif. codes:  0 ‘***’ 0.001 ‘**’ 0.01 ‘*’ 0.05 ‘.’ 0.1 ‘ ’ 1\n",
      "\n",
      "\n",
      "\n",
      "\n",
      "[1] \"df$rate_syl  ~ df$g + df$l + df$g:df$l\"\n",
      "             Df Sum Sq Mean Sq F value  Pr(>F)   \n",
      "df$g          3 0.0452 0.01508   1.750 0.15756   \n",
      "df$l          3 0.1383 0.04610   5.352 0.00141 **\n",
      "df$g:df$l     9 0.0975 0.01084   1.258 0.26101   \n",
      "Residuals   224 1.9293 0.00861                   \n",
      "---\n",
      "Signif. codes:  0 ‘***’ 0.001 ‘**’ 0.01 ‘*’ 0.05 ‘.’ 0.1 ‘ ’ 1\n",
      "\n",
      "  Tukey multiple comparisons of means\n",
      "    95% family-wise confidence level\n",
      "\n",
      "Fit: aov(formula = formula(frm))\n",
      "\n",
      "$`df$l`\n",
      "             diff           lwr        upr     p adj\n",
      "CE-CC  0.03812897 -0.0057293048 0.08198725 0.1131072\n",
      "EC-CC  0.02079555 -0.0230627295 0.06465382 0.6101641\n",
      "EE-CC  0.06548091  0.0216226378 0.10933919 0.0008351\n",
      "EC-CE -0.01733342 -0.0611917000 0.02652485 0.7361646\n",
      "EE-CE  0.02735194 -0.0165063326 0.07121022 0.3726636\n",
      "EE-EC  0.04468537  0.0008270921 0.08854364 0.0440033\n",
      "\n",
      "\n",
      "\n",
      "\n",
      "\n"
     ]
    }
   ],
   "source": [
    "%%R -i df\n",
    "run_anovas(df)"
   ]
  },
  {
   "cell_type": "code",
   "execution_count": 40,
   "metadata": {},
   "outputs": [],
   "source": [
    "df = ana.prep_for_anova(df_syn_er, lambda x: abs(aux.r2z(x)))"
   ]
  },
  {
   "cell_type": "code",
   "execution_count": 41,
   "metadata": {
    "scrolled": true
   },
   "outputs": [
    {
     "name": "stdout",
     "output_type": "stream",
     "text": [
      "[1] \"df$intensity_mean  ~ df$g + df$l + df$g:df$l\"\n",
      "             Df Sum Sq  Mean Sq F value Pr(>F)\n",
      "df$g          3 0.0093 0.003086   0.222  0.881\n",
      "df$l          3 0.0465 0.015508   1.118  0.343\n",
      "df$g:df$l     9 0.0954 0.010602   0.764  0.650\n",
      "Residuals   224 3.1076 0.013873               \n",
      "\n",
      "\n",
      "\n",
      "\n",
      "[1] \"df$intensity_max  ~ df$g + df$l + df$g:df$l\"\n",
      "             Df Sum Sq  Mean Sq F value Pr(>F)\n",
      "df$g          3 0.0065 0.002173   0.197  0.898\n",
      "df$l          3 0.0253 0.008448   0.766  0.514\n",
      "df$g:df$l     9 0.0511 0.005675   0.515  0.863\n",
      "Residuals   224 2.4693 0.011024               \n",
      "\n",
      "\n",
      "\n",
      "\n",
      "[1] \"df$pitch_mean  ~ df$g + df$l + df$g:df$l\"\n",
      "             Df Sum Sq  Mean Sq F value Pr(>F)\n",
      "df$g          3 0.0107 0.003555   0.333  0.802\n",
      "df$l          3 0.0279 0.009316   0.871  0.457\n",
      "df$g:df$l     9 0.1182 0.013134   1.229  0.278\n",
      "Residuals   224 2.3946 0.010690               \n",
      "\n",
      "\n",
      "\n",
      "\n",
      "[1] \"df$pitch_max  ~ df$g + df$l + df$g:df$l\"\n",
      "             Df Sum Sq  Mean Sq F value Pr(>F)\n",
      "df$g          3 0.0350 0.011667   1.448  0.230\n",
      "df$l          3 0.0298 0.009944   1.234  0.298\n",
      "df$g:df$l     9 0.1139 0.012652   1.570  0.125\n",
      "Residuals   224 1.8047 0.008057               \n",
      "\n",
      "\n",
      "\n",
      "\n",
      "[1] \"df$jitter  ~ df$g + df$l + df$g:df$l\"\n",
      "             Df Sum Sq Mean Sq F value Pr(>F)\n",
      "df$g          3  0.047 0.01572   0.712  0.546\n",
      "df$l          3  0.074 0.02451   1.111  0.346\n",
      "df$g:df$l     9  0.210 0.02335   1.058  0.395\n",
      "Residuals   224  4.944 0.02207               \n",
      "\n",
      "\n",
      "\n",
      "\n",
      "[1] \"df$shimmer  ~ df$g + df$l + df$g:df$l\"\n",
      "             Df Sum Sq  Mean Sq F value Pr(>F)\n",
      "df$g          3 0.0080 0.002678   0.249  0.862\n",
      "df$l          3 0.0524 0.017460   1.626  0.184\n",
      "df$g:df$l     9 0.0536 0.005954   0.554  0.833\n",
      "Residuals   224 2.4056 0.010739               \n",
      "\n",
      "\n",
      "\n",
      "\n",
      "[1] \"df$nhr  ~ df$g + df$l + df$g:df$l\"\n",
      "             Df Sum Sq  Mean Sq F value Pr(>F)\n",
      "df$g          3 0.0060 0.001997   0.266  0.850\n",
      "df$l          3 0.0336 0.011195   1.489  0.218\n",
      "df$g:df$l     9 0.0186 0.002068   0.275  0.981\n",
      "Residuals   224 1.6840 0.007518               \n",
      "\n",
      "\n",
      "\n",
      "\n",
      "[1] \"df$rate_syl  ~ df$g + df$l + df$g:df$l\"\n",
      "             Df Sum Sq  Mean Sq F value Pr(>F)\n",
      "df$g          3 0.0084 0.002816   0.383  0.766\n",
      "df$l          3 0.0404 0.013481   1.832  0.142\n",
      "df$g:df$l     9 0.0216 0.002395   0.326  0.966\n",
      "Residuals   224 1.6481 0.007357               \n",
      "\n",
      "\n",
      "\n",
      "\n"
     ]
    }
   ],
   "source": [
    "%%R -i df\n",
    "run_anovas(df)"
   ]
  },
  {
   "cell_type": "code",
   "execution_count": 42,
   "metadata": {},
   "outputs": [],
   "source": [
    "df = ana.prep_for_anova(df_syn_fc, lambda x: abs(aux.r2z(x)))"
   ]
  },
  {
   "cell_type": "code",
   "execution_count": 43,
   "metadata": {},
   "outputs": [
    {
     "name": "stdout",
     "output_type": "stream",
     "text": [
      "[1] \"df$intensity_mean  ~ df$g + df$l + df$g:df$l\"\n",
      "             Df Sum Sq Mean Sq F value Pr(>F)  \n",
      "df$g          3  0.196 0.06519   2.370 0.0724 .\n",
      "df$l          2  0.017 0.00855   0.311 0.7334  \n",
      "df$g:df$l     6  0.069 0.01149   0.418 0.8664  \n",
      "Residuals   168  4.621 0.02750                 \n",
      "---\n",
      "Signif. codes:  0 ‘***’ 0.001 ‘**’ 0.01 ‘*’ 0.05 ‘.’ 0.1 ‘ ’ 1\n",
      "\n",
      "\n",
      "\n",
      "\n",
      "[1] \"df$intensity_max  ~ df$g + df$l + df$g:df$l\"\n",
      "             Df Sum Sq  Mean Sq F value Pr(>F)\n",
      "df$g          3  0.030 0.010103   0.419  0.739\n",
      "df$l          2  0.016 0.008226   0.341  0.711\n",
      "df$g:df$l     6  0.141 0.023446   0.973  0.445\n",
      "Residuals   168  4.048 0.024096               \n",
      "\n",
      "\n",
      "\n",
      "\n",
      "[1] \"df$pitch_mean  ~ df$g + df$l + df$g:df$l\"\n",
      "             Df Sum Sq Mean Sq F value Pr(>F)  \n",
      "df$g          3  0.069 0.02285   0.688 0.5604  \n",
      "df$l          2  0.230 0.11493   3.462 0.0336 *\n",
      "df$g:df$l     6  0.027 0.00451   0.136 0.9915  \n",
      "Residuals   168  5.577 0.03319                 \n",
      "---\n",
      "Signif. codes:  0 ‘***’ 0.001 ‘**’ 0.01 ‘*’ 0.05 ‘.’ 0.1 ‘ ’ 1\n",
      "\n",
      "  Tukey multiple comparisons of means\n",
      "    95% family-wise confidence level\n",
      "\n",
      "Fit: aov(formula = formula(frm))\n",
      "\n",
      "$`df$l`\n",
      "              diff          lwr        upr     p adj\n",
      "EC-CE -0.000283865 -0.078942454 0.07837472 0.9999599\n",
      "EE-CE  0.075664939 -0.002993650 0.15432353 0.0621824\n",
      "EE-EC  0.075948804 -0.002709785 0.15460739 0.0609299\n",
      "\n",
      "\n",
      "\n",
      "\n",
      "\n",
      "[1] \"df$pitch_max  ~ df$g + df$l + df$g:df$l\"\n",
      "             Df Sum Sq Mean Sq F value Pr(>F)  \n",
      "df$g          3 0.0297 0.00990   0.661 0.5772  \n",
      "df$l          2 0.1402 0.07011   4.681 0.0105 *\n",
      "df$g:df$l     6 0.0428 0.00713   0.476 0.8257  \n",
      "Residuals   168 2.5161 0.01498                 \n",
      "---\n",
      "Signif. codes:  0 ‘***’ 0.001 ‘**’ 0.01 ‘*’ 0.05 ‘.’ 0.1 ‘ ’ 1\n",
      "\n",
      "  Tukey multiple comparisons of means\n",
      "    95% family-wise confidence level\n",
      "\n",
      "Fit: aov(formula = formula(frm))\n",
      "\n",
      "$`df$l`\n",
      "            diff          lwr        upr     p adj\n",
      "EC-CE 0.01371329 -0.039121102 0.06654768 0.8128069\n",
      "EE-CE 0.06486147  0.012027077 0.11769586 0.0116221\n",
      "EE-EC 0.05114818 -0.001686214 0.10398257 0.0600627\n",
      "\n",
      "\n",
      "\n",
      "\n",
      "\n",
      "[1] \"df$jitter  ~ df$g + df$l + df$g:df$l\"\n",
      "             Df Sum Sq Mean Sq F value Pr(>F)\n",
      "df$g          3 0.0438 0.01461   0.964  0.411\n",
      "df$l          2 0.0701 0.03504   2.311  0.102\n",
      "df$g:df$l     6 0.0821 0.01368   0.902  0.495\n",
      "Residuals   168 2.5468 0.01516               \n",
      "\n",
      "\n",
      "\n",
      "\n",
      "[1] \"df$shimmer  ~ df$g + df$l + df$g:df$l\"\n",
      "             Df Sum Sq  Mean Sq F value Pr(>F)\n",
      "df$g          3 0.0131 0.004378   0.332  0.802\n",
      "df$l          2 0.0006 0.000325   0.025  0.976\n",
      "df$g:df$l     6 0.0507 0.008447   0.640  0.698\n",
      "Residuals   168 2.2169 0.013196               \n",
      "\n",
      "\n",
      "\n",
      "\n",
      "[1] \"df$nhr  ~ df$g + df$l + df$g:df$l\"\n",
      "             Df Sum Sq  Mean Sq F value Pr(>F)\n",
      "df$g          3  0.015 0.004869   0.246  0.864\n",
      "df$l          2  0.017 0.008311   0.420  0.658\n",
      "df$g:df$l     6  0.129 0.021484   1.086  0.373\n",
      "Residuals   168  3.324 0.019783               \n",
      "\n",
      "\n",
      "\n",
      "\n",
      "[1] \"df$rate_syl  ~ df$g + df$l + df$g:df$l\"\n",
      "             Df Sum Sq  Mean Sq F value Pr(>F)\n",
      "df$g          3 0.0388 0.012924   0.817  0.486\n",
      "df$l          2 0.0050 0.002501   0.158  0.854\n",
      "df$g:df$l     6 0.0439 0.007311   0.462  0.836\n",
      "Residuals   168 2.6581 0.015822               \n",
      "\n",
      "\n",
      "\n",
      "\n"
     ]
    }
   ],
   "source": [
    "%%R -i df\n",
    "run_anovas(df)"
   ]
  },
  {
   "cell_type": "markdown",
   "metadata": {},
   "source": [
    "## Auxiliary tests"
   ]
  },
  {
   "cell_type": "code",
   "execution_count": 44,
   "metadata": {
    "scrolled": true
   },
   "outputs": [
    {
     "name": "stdout",
     "output_type": "stream",
     "text": [
      "EE (conv.)\n",
      "intensity_mean (-0.006453213398898019, 0.9447075810002118, 116)\n",
      "intensity_max (0.07631621693701518, 0.41142976063746933, 116)\n",
      "pitch_mean (-0.11180962955524978, 0.22804198297152065, 116)\n",
      "pitch_max (-0.06805535321961671, 0.46401584966864967, 116)\n",
      "jitter (0.0254327183176946, 0.7845662699710527, 116)\n",
      "shimmer (-0.21104686419464486, 0.021787384812505355, 116)\n",
      "nhr (-0.12828928236512344, 0.16621414984936467, 116)\n",
      "rate_syl (0.06995197136880654, 0.45162623010368413, 116)\n",
      "\n",
      "ER (conv.)\n",
      "intensity_mean (-0.04187336657977058, 0.6525542310047624, 116)\n",
      "intensity_max (0.005168659671472361, 0.9557013361986778, 116)\n",
      "pitch_mean (0.11938373851625853, 0.1978696786372702, 116)\n",
      "pitch_max (0.24332212789475383, 0.007929761006130742, 116)\n",
      "jitter (-0.03908593789160368, 0.6743226673185828, 116)\n",
      "shimmer (0.09762650955421578, 0.2929276458740035, 116)\n",
      "nhr (0.010771817851514813, 0.9078351224670067, 116)\n",
      "rate_syl (-0.014644433461791413, 0.8749341325639122, 116)\n",
      "\n",
      "EE (sync.)\n",
      "intensity_mean (0.044018909544973846, 0.635994106399355, 116)\n",
      "intensity_max (-0.012445060489559873, 0.8935970812853652, 116)\n",
      "pitch_mean (0.03332410562159693, 0.7201648471614874, 116)\n",
      "pitch_max (0.0009927861496441107, 0.9914870385845224, 116)\n",
      "jitter (-0.1286839121844085, 0.16490394139919257, 116)\n",
      "shimmer (-0.08222805239898513, 0.3760395958968268, 116)\n",
      "nhr (-0.09765832760429745, 0.292769607990379, 116)\n",
      "rate_syl (-0.003650378337300919, 0.9687060039983361, 116)\n",
      "\n",
      "ER (sync.)\n",
      "intensity_mean (-0.0049537720197681415, 0.957541304447675, 116)\n",
      "intensity_max (0.09740070060728033, 0.29405084584457425, 116)\n",
      "pitch_mean (-0.061582427089680015, 0.5076736554654858, 116)\n",
      "pitch_max (-0.05652831747473328, 0.5431845381104821, 116)\n",
      "jitter (0.001817897903101542, 0.9844125415771089, 116)\n",
      "shimmer (-0.035246347293425316, 0.7047507298463342, 116)\n",
      "nhr (0.10792697234866783, 0.2447044569085074, 116)\n",
      "rate_syl (-0.02980150682092086, 0.7487013162184933, 116)\n",
      "\n",
      "EE (conv., abs)\n",
      "intensity_mean (-0.003181856010789707, 0.9727208976006985, 116)\n",
      "intensity_max (0.013383505062366671, 0.8856261141796038, 116)\n",
      "pitch_mean (-0.0370373949401852, 0.6904953802805712, 116)\n",
      "pitch_max (0.09310558879241522, 0.3159576603510145, 116)\n",
      "jitter (-0.17241359022905298, 0.061907123095866975, 116)\n",
      "shimmer (-0.03116661908016066, 0.7375997760940093, 116)\n",
      "nhr (-0.11561625124599699, 0.21249649423633257, 116)\n",
      "rate_syl (0.03423788273875687, 0.712822977491562, 116)\n",
      "\n",
      "ER (conv., abs)\n",
      "intensity_mean (-0.08049801653392309, 0.38619895968305173, 116)\n",
      "intensity_max (-0.12244935544762889, 0.18651546718154396, 116)\n",
      "pitch_mean (-0.08293292815450114, 0.3719474511827064, 116)\n",
      "pitch_max (0.20646932057720932, 0.024884986111332448, 116)\n",
      "jitter (0.08912469352071702, 0.3371823079354564, 116)\n",
      "shimmer (0.12995648081617747, 0.16073116977762994, 116)\n",
      "nhr (-0.06504209046819986, 0.48407834024134905, 116)\n",
      "rate_syl (-0.09246738727235561, 0.31930073445905516, 116)\n",
      "\n",
      "EE (sync., abs)\n",
      "intensity_mean (0.0820626672724433, 0.377003694733039, 116)\n",
      "intensity_max (0.012057632910200535, 0.8968909588803197, 116)\n",
      "pitch_mean (0.04896204935287241, 0.5985282469656897, 116)\n",
      "pitch_max (-0.050571262629505, 0.5865482666241963, 116)\n",
      "jitter (-0.018319487115038453, 0.843906826012449, 116)\n",
      "shimmer (0.030741759376819805, 0.7410492100629669, 116)\n",
      "nhr (-0.053572258445222176, 0.564505173109494, 116)\n",
      "rate_syl (0.002413251187238532, 0.9793087102072383, 116)\n",
      "\n",
      "ER (sync., abs)\n",
      "intensity_mean (-0.06393283131527004, 0.4915790790294389, 116)\n",
      "intensity_max (-0.041580184971847865, 0.6548305386406992, 116)\n",
      "pitch_mean (-0.08194220342042201, 0.3777068748230824, 116)\n",
      "pitch_max (-0.030270056826005608, 0.7448849849725105, 116)\n",
      "jitter (0.04337012408637142, 0.6409832526397155, 116)\n",
      "shimmer (0.14712663935811007, 0.11186730557782543, 116)\n",
      "nhr (0.1763427064325732, 0.05611028077670909, 116)\n",
      "rate_syl (0.03445323994746628, 0.7110964479973161, 116)\n",
      "\n"
     ]
    }
   ],
   "source": [
    "# check for correlations with number of years of english experience\n",
    "ana.correlate_eng_yrs(df_lcon_ee, 'EE (conv.)')\n",
    "ana.correlate_eng_yrs(df_lcon_er, 'ER (conv.)')\n",
    "ana.correlate_eng_yrs(df_syn_ee, 'EE (sync.)')\n",
    "ana.correlate_eng_yrs(df_syn_er, 'ER (sync.)')\n",
    "func = lambda x: abs(aux.r2z(x))\n",
    "ana.correlate_eng_yrs(df_lcon_ee, 'EE (conv., abs)', func)\n",
    "ana.correlate_eng_yrs(df_lcon_er, 'ER (conv., abs)', func)\n",
    "ana.correlate_eng_yrs(df_syn_ee, 'EE (sync., abs)', func)\n",
    "ana.correlate_eng_yrs(df_syn_er, 'ER (sync., abs)', func)"
   ]
  },
  {
   "cell_type": "code",
   "execution_count": 45,
   "metadata": {},
   "outputs": [
    {
     "name": "stdout",
     "output_type": "stream",
     "text": [
      "EE 7.057342657342657 0.007894100823381513 1\n",
      "ER 2.428741508508999 0.11912850383216617 1\n",
      "FC 2.5379120190500064 0.11114167287012994 1\n"
     ]
    }
   ],
   "source": [
    "# within each corpus, compare number of speakers with significant\n",
    "# local convergence and synchrony, resp.\n",
    "ana.compare_sig_cnt_within_corpus(df_lcon_ee, df_syn_ee, 'EE')\n",
    "ana.compare_sig_cnt_within_corpus(df_lcon_er, df_syn_er, 'ER')\n",
    "ana.compare_sig_cnt_within_corpus(df_lcon_fc, df_syn_fc, 'FC')"
   ]
  },
  {
   "cell_type": "code",
   "execution_count": 46,
   "metadata": {},
   "outputs": [
    {
     "name": "stdout",
     "output_type": "stream",
     "text": [
      "conv. 3.433257918552036 0.17967080577893044 2\n",
      "sync. 8.289539170506915 0.015847086933204073 2\n"
     ]
    }
   ],
   "source": [
    "# across all three (sub-)corpora, compare number of speakers with \n",
    "# significant results\n",
    "ana.compare_sig_cnt_across_corpora(\n",
    "    df_lcon_ee, df_lcon_er, df_lcon_fc, 'conv.')\n",
    "ana.compare_sig_cnt_across_corpora(\n",
    "    df_syn_ee, df_syn_er, df_syn_fc, 'sync.')"
   ]
  },
  {
   "cell_type": "code",
   "execution_count": 47,
   "metadata": {},
   "outputs": [
    {
     "name": "stdout",
     "output_type": "stream",
     "text": [
      "conv. 1.6512505484861781 0.19878881019907127 1\n",
      "sync. 5.685549578595083 0.01710518127557662 1\n"
     ]
    }
   ],
   "source": [
    "# across the subcorpora of the deception corpus, compare number of \n",
    "# speakers with significant results\n",
    "ana.compare_sig_cnt_across_dc(df_lcon_ee, df_lcon_er, 'conv.')\n",
    "ana.compare_sig_cnt_across_dc(df_syn_ee, df_syn_er, 'sync.')"
   ]
  },
  {
   "cell_type": "code",
   "execution_count": 48,
   "metadata": {},
   "outputs": [
    {
     "name": "stdout",
     "output_type": "stream",
     "text": [
      "conv. 1.2725886080479505 0.8660088166460598 4\n",
      "sync. 4.180686999576468 0.3821044608342798 4\n"
     ]
    }
   ],
   "source": [
    "# across all three (sub-)corpora, compare number of speakers for all \n",
    "# (non-0) valences (pos, neg, mixed)\n",
    "ana.compare_valence_across_corpora(\n",
    "    df_lcon_ee, df_lcon_er, df_lcon_fc, 'conv.')\n",
    "ana.compare_valence_across_corpora(\n",
    "    df_syn_ee, df_syn_er, df_syn_fc, 'sync.')"
   ]
  },
  {
   "cell_type": "code",
   "execution_count": 49,
   "metadata": {},
   "outputs": [
    {
     "name": "stdout",
     "output_type": "stream",
     "text": [
      "conv. 10.565673783031077 0.03190427458244104 4\n",
      "sync. 5.798555941759384 0.21470579773868512 4\n"
     ]
    }
   ],
   "source": [
    "# across all three (sub-)corpora, compare number of speakers with \n",
    "# 1, 2, 3+ significant features per measure\n",
    "ana.compare_sig_fea_cnt_across_corpora(\n",
    "    df_lcon_ee, df_lcon_er, df_lcon_fc, 'conv.')\n",
    "ana.compare_sig_fea_cnt_across_corpora(\n",
    "    df_syn_ee, df_syn_er, df_syn_fc, 'sync.')"
   ]
  },
  {
   "cell_type": "code",
   "execution_count": 50,
   "metadata": {},
   "outputs": [
    {
     "name": "stdout",
     "output_type": "stream",
     "text": [
      "conv. 0.30578931550475075 0.8582201238865382 2\n",
      "sync. 4.4018244679290985 0.11070212604745734 2\n"
     ]
    }
   ],
   "source": [
    "# across the subcorpora of the deception corpus, compare number of \n",
    "# speakers with 1, 2, 3+ significant features per measure\n",
    "ana.compare_sig_fea_cnt_across_dc(df_lcon_ee, df_lcon_er, 'conv.')\n",
    "ana.compare_sig_fea_cnt_across_dc(df_syn_ee, df_syn_er, 'sync.')"
   ]
  },
  {
   "cell_type": "code",
   "execution_count": 51,
   "metadata": {},
   "outputs": [
    {
     "name": "stdout",
     "output_type": "stream",
     "text": [
      "EE (conv.) (-1.343836599403665, 0.1989767614886568, 15)\n",
      "ER (conv.) (-1.4308577009771735, 0.1729737932729638, 15)\n",
      "FC (conv.) (-1.2799601057612797, 0.2268940844548294, 11)\n",
      "EE (sync.) (7.142232628364684, 3.3800999459254006e-06, 15)\n",
      "ER (sync.) (4.037864265436241, 0.0010734331202136571, 15)\n",
      "FC (sync.) (4.1797832761154154, 0.0015371149789801164, 11)\n"
     ]
    }
   ],
   "source": [
    "# per speaker type, compare number of speakers with purely positive to\n",
    "# those with purely negative entrainment\n",
    "ana.compare_valence_per_spk_type(df_lcon_ee, 'EE (conv.)')\n",
    "ana.compare_valence_per_spk_type(df_lcon_er, 'ER (conv.)')\n",
    "ana.compare_valence_per_spk_type(df_lcon_fc, 'FC (conv.)')\n",
    "ana.compare_valence_per_spk_type(df_syn_ee, 'EE (sync.)')\n",
    "ana.compare_valence_per_spk_type(df_syn_er, 'ER (sync.)')\n",
    "ana.compare_valence_per_spk_type(df_syn_fc, 'FC (sync.)')"
   ]
  },
  {
   "cell_type": "code",
   "execution_count": 52,
   "metadata": {},
   "outputs": [
    {
     "name": "stdout",
     "output_type": "stream",
     "text": [
      "EE (-3.5290047518734498, 0.003037282847677773, 15)\n",
      "ER (-1.6947980485980962, 0.11076722042338742, 15)\n",
      "FC (-3.5456210417116734, 0.004587202646462882, 11)\n"
     ]
    }
   ],
   "source": [
    "# per speaker type, compare number of speakers with significant local\n",
    "# convergence and synchrony, resp.\n",
    "ana.compare_sig_cnt_per_spk_type(df_lcon_ee, df_syn_ee, 'EE')\n",
    "ana.compare_sig_cnt_per_spk_type(df_lcon_er, df_syn_er, 'ER')\n",
    "ana.compare_sig_cnt_per_spk_type(df_lcon_fc, df_syn_fc, 'FC')"
   ]
  },
  {
   "cell_type": "code",
   "execution_count": 53,
   "metadata": {},
   "outputs": [
    {
     "name": "stdout",
     "output_type": "stream",
     "text": [
      "EE (conv.) 4.457782251233246 0.8787878829605138 9\n",
      "ER (conv.) 5.20066348745594 0.8164767598393773 9\n",
      "FC (conv.) 12.35046368812312 0.19426504868047315 9\n",
      "EE (sync.) 5.424249512670565 0.7958692912131944 9\n",
      "ER (sync.) 8.727322404371584 0.4628159940389547 9\n",
      "FC (sync.) 10.472473021972466 0.31360577507245013 9\n"
     ]
    }
   ],
   "source": [
    "# per gender type (speaker & partner gender), compare number of speakers\n",
    "# for all valences (pos, neg, mixed, none)\n",
    "col = 'gender'\n",
    "levels = ['f', 'm']\n",
    "_, _ = ana.compare_prtl_spk_types(df_lcon_ee, col, levels, 'EE (conv.)')\n",
    "_, _ = ana.compare_prtl_spk_types(df_lcon_er, col, levels, 'ER (conv.)')\n",
    "_, _ = ana.compare_prtl_spk_types(df_lcon_fc, col, levels, 'FC (conv.)')\n",
    "_, _ = ana.compare_prtl_spk_types(df_syn_ee, col, levels, 'EE (sync.)')\n",
    "_, _ = ana.compare_prtl_spk_types(df_syn_er, col, levels, 'ER (sync.)')\n",
    "_, _ = ana.compare_prtl_spk_types(df_syn_fc, col, levels, 'FC (sync.)')"
   ]
  },
  {
   "cell_type": "code",
   "execution_count": 54,
   "metadata": {},
   "outputs": [
    {
     "name": "stdout",
     "output_type": "stream",
     "text": [
      "EE (conv.) 9.726297075090937 0.37309408968350705 9\n",
      "ER (conv.) 9.65200082935932 0.37938500134196984 9\n",
      "FC (conv.) 5.207528405559285 0.5174850037757803 6\n",
      "EE (sync.) 24.582456140350878 0.003469499397254369 9\n",
      "ER (sync.) 13.333333333333334 0.14809419563191106 9\n",
      "FC (sync.) 6.315978793175679 0.3887403726412759 6\n"
     ]
    }
   ],
   "source": [
    "# per native language type (speaker & partner native lang.), compare \n",
    "# number of speakers for all valences (pos, neg, mixed, none)\n",
    "col = 'native_lang'\n",
    "levels = ['Chinese', 'English']\n",
    "_, _ = ana.compare_prtl_spk_types(df_lcon_ee, col, levels, 'EE (conv.)')\n",
    "_, _ = ana.compare_prtl_spk_types(df_lcon_er, col, levels, 'ER (conv.)')\n",
    "_, _ = ana.compare_prtl_spk_types(df_lcon_fc, col, levels, 'FC (conv.)',\n",
    "                                  False)\n",
    "o, e = ana.compare_prtl_spk_types(df_syn_ee, col, levels, 'EE (sync.)')\n",
    "_, _ = ana.compare_prtl_spk_types(df_syn_er, col, levels, 'ER (sync.)')\n",
    "_, _ = ana.compare_prtl_spk_types(df_syn_fc, col, levels, 'FC (sync.)', \n",
    "                                  False)"
   ]
  },
  {
   "cell_type": "code",
   "execution_count": 55,
   "metadata": {},
   "outputs": [
    {
     "data": {
      "text/plain": [
       "array([[34,  4,  0, 22],\n",
       "       [26,  9,  8, 17],\n",
       "       [17,  4,  7, 32],\n",
       "       [23, 10,  3, 24]])"
      ]
     },
     "execution_count": 55,
     "metadata": {},
     "output_type": "execute_result"
    }
   ],
   "source": [
    "o"
   ]
  },
  {
   "cell_type": "code",
   "execution_count": 56,
   "metadata": {},
   "outputs": [
    {
     "data": {
      "text/plain": [
       "array([[25.  ,  6.75,  4.5 , 23.75],\n",
       "       [25.  ,  6.75,  4.5 , 23.75],\n",
       "       [25.  ,  6.75,  4.5 , 23.75],\n",
       "       [25.  ,  6.75,  4.5 , 23.75]])"
      ]
     },
     "execution_count": 56,
     "metadata": {},
     "output_type": "execute_result"
    }
   ],
   "source": [
    "e"
   ]
  },
  {
   "cell_type": "code",
   "execution_count": 57,
   "metadata": {},
   "outputs": [
    {
     "data": {
      "image/png": "[encoded data removed]",
      "text/plain": [
       "<Figure size 1296x648 with 1 Axes>"
      ]
     },
     "metadata": {
      "needs_background": "light"
     },
     "output_type": "display_data"
    }
   ],
   "source": [
    "# maybe illustrate?\n",
    "import itertools\n",
    "import numpy as np\n",
    "import pandas as pd\n",
    "import matplotlib.pyplot as plt\n",
    "\n",
    "fig, ax = plt.subplots()\n",
    "fig.set_size_inches(18, 9)\n",
    "plt.tick_params(axis='both', which='major', \n",
    "                labelsize=30, width=3, length=7)\n",
    "\n",
    "data = list(itertools.chain(*(o-e)))\n",
    "p_m = ax.bar(range(len(data)), data, color='#666666')\n",
    "\n",
    "labels = list(itertools.product(levels, levels, ['+', '–', '+/–', '0']))\n",
    "labels = [(l[0][0] + l[1][0] + ' ' + l[2]) for l in labels]\n",
    "plt.xticks(range(len(data)), labels, rotation=90)\n",
    "plt.yticks(range(-8, 9, 2))\n",
    "plt.show()    "
   ]
  },
  {
   "cell_type": "code",
   "execution_count": null,
   "metadata": {},
   "outputs": [],
   "source": []
  },
  {
   "cell_type": "code",
   "execution_count": 58,
   "metadata": {},
   "outputs": [
    {
     "data": {
      "text/plain": [
       "23.193979933110366"
      ]
     },
     "execution_count": 58,
     "metadata": {},
     "output_type": "execute_result"
    }
   ],
   "source": [
    "df_bt_dc.groupby('spk_id')['age'].first().mean()"
   ]
  },
  {
   "cell_type": "code",
   "execution_count": 59,
   "metadata": {},
   "outputs": [
    {
     "data": {
      "text/plain": [
       "4.625124400242308"
      ]
     },
     "execution_count": 59,
     "metadata": {},
     "output_type": "execute_result"
    }
   ],
   "source": [
    "df_bt_dc.groupby('spk_id')['age'].first().std()"
   ]
  },
  {
   "cell_type": "code",
   "execution_count": 60,
   "metadata": {},
   "outputs": [
    {
     "data": {
      "text/plain": [
       "33.48571428571429"
      ]
     },
     "execution_count": 60,
     "metadata": {},
     "output_type": "execute_result"
    }
   ],
   "source": [
    "df_bt_fc.groupby('spk_id')['age'].first().mean()"
   ]
  },
  {
   "cell_type": "code",
   "execution_count": 61,
   "metadata": {},
   "outputs": [
    {
     "data": {
      "text/plain": [
       "11.156661095862368"
      ]
     },
     "execution_count": 61,
     "metadata": {},
     "output_type": "execute_result"
    }
   ],
   "source": [
    "df_bt_fc.groupby('spk_id')['age'].first().std()"
   ]
  },
  {
   "cell_type": "code",
   "execution_count": null,
   "metadata": {},
   "outputs": [],
   "source": []
  },
  {
   "cell_type": "code",
   "execution_count": 62,
   "metadata": {},
   "outputs": [
    {
     "name": "stdout",
     "output_type": "stream",
     "text": [
      "no normalization requested, only renaming \"_raw\" columns\n"
     ]
    }
   ],
   "source": [
    "db.connect(corpus_id_dc)\n",
    "# get wide table with basic data\n",
    "df_bt_dc_all = ap.load_data(cfg.NRM_RAW)\n",
    "df_bt_dc_rel = ana.get_ti_tf_ipus(df_bt_dc_all)\n",
    "df_bt_ee_all = df_bt_dc_all[df_bt_dc_all['speaker_role'] == 'f']\n",
    "df_bt_ee_rel = df_bt_dc_rel[df_bt_dc_rel['speaker_role'] == 'f']\n",
    "df_bt_er_all = df_bt_dc_all[df_bt_dc_all['speaker_role'] == 'd']\n",
    "df_bt_er_rel = df_bt_dc_rel[df_bt_dc_rel['speaker_role'] == 'd']\n",
    "db.close()"
   ]
  },
  {
   "cell_type": "code",
   "execution_count": 63,
   "metadata": {},
   "outputs": [
    {
     "name": "stdout",
     "output_type": "stream",
     "text": [
      "no normalization requested, only renaming \"_raw\" columns\n"
     ]
    }
   ],
   "source": [
    "db.connect(corpus_id_fc)\n",
    "# get wide table with basic data\n",
    "df_bt_fc_all = ap.load_data(cfg.NRM_RAW)\n",
    "df_bt_fc_rel = ana.get_ti_tf_ipus(df_bt_fc_all)\n",
    "db.close()"
   ]
  },
  {
   "cell_type": "code",
   "execution_count": 64,
   "metadata": {},
   "outputs": [
    {
     "name": "stdout",
     "output_type": "stream",
     "text": [
      "total number of relevant IPUs: 84038\n",
      "syllables per relevant IPU: 5.13 (4.71)\n",
      "duration per relevant IPU (in s): 1.22 (0.91)\n",
      "total duration of relevant IPUs (in h): 28.42\n",
      "number of total IPUs per turn: 2.45 (2.82)\n",
      "number of relevant IPUs per speaker:\n",
      "\tmin:  70.00\n",
      "\tmax:  677.00\n",
      "\tmean: 280.13\n",
      "\tstd:  133.25\n",
      "\n",
      "\n",
      "speech rate of relevant IPUs per speaker: 4.09 (0.59)\n",
      "duration of relevant IPUs per speaker: 1.23 (0.20)\n",
      "syllables per relevant IPU per speaker: 5.29 (1.15)\n",
      "\n",
      "\n",
      "number of relevant IPUs per speaker (gender == f): 266.16 (129.82)\n",
      "number of relevant IPUs per speaker (gender == m): 294.09 (135.58)\n",
      "(-1.8225131617161259, 0.06937920460175102, 298)\n",
      "speech rate of relevant IPUs per speaker (gender == f): 3.94 (0.54)\n",
      "speech rate of relevant IPUs per speaker (gender == m): 4.24 (0.60)\n",
      "(-4.517032574747607, 9.04823747204577e-06, 298)\n",
      "duration of relevant IPUs per speaker (gender == f): 1.27 (0.21)\n",
      "duration of relevant IPUs per speaker (gender == m): 1.20 (0.19)\n",
      "(2.7678343786708712, 0.00599622484458008, 298)\n",
      "syllables per relevant IPU per speaker (gender == f): 5.27 (1.14)\n",
      "syllables per relevant IPU per speaker (gender == m): 5.31 (1.17)\n",
      "(-0.23365755755609832, 0.8154112692412134, 298)\n",
      "\n",
      "\n",
      "number of relevant IPUs per speaker (native_lang == Chinese): 319.51 (140.38)\n",
      "number of relevant IPUs per speaker (native_lang == English): 240.75 (113.14)\n",
      "(5.350105111484546, 1.7551280166480877e-07, 298)\n",
      "speech rate of relevant IPUs per speaker (native_lang == Chinese): 3.76 (0.44)\n",
      "speech rate of relevant IPUs per speaker (native_lang == English): 4.42 (0.53)\n",
      "(-11.848651142548801, 8.503895035942783e-27, 298)\n",
      "duration of relevant IPUs per speaker (native_lang == Chinese): 1.23 (0.21)\n",
      "duration of relevant IPUs per speaker (native_lang == English): 1.24 (0.19)\n",
      "(-0.30913573350595186, 0.757434302398107, 298)\n",
      "syllables per relevant IPU per speaker (native_lang == Chinese): 4.77 (0.97)\n",
      "syllables per relevant IPU per speaker (native_lang == English): 5.81 (1.09)\n",
      "(-8.694361317623324, 2.3817523891269154e-16, 298)\n",
      "\n",
      "\n",
      "number of relevant IPUs per speaker (speaker_role == f): 137.84 (74.22)\n",
      "number of relevant IPUs per speaker (speaker_role == d): 142.29 (74.58)\n",
      "(-0.7320278103572357, 0.46443837784891884, 598)\n",
      "speech rate of relevant IPUs per speaker (speaker_role == f): 3.80 (0.61)\n",
      "speech rate of relevant IPUs per speaker (speaker_role == d): 4.36 (0.72)\n",
      "(-10.297364228881282, 5.28847938889579e-23, 598)\n",
      "duration of relevant IPUs per speaker (speaker_role == f): 1.27 (0.28)\n",
      "duration of relevant IPUs per speaker (speaker_role == d): 1.21 (0.23)\n",
      "(2.8307467112155047, 0.0048000595213743575, 598)\n",
      "syllables per relevant IPU per speaker (speaker_role == f): 5.14 (1.63)\n",
      "syllables per relevant IPU per speaker (speaker_role == d): 5.43 (1.20)\n",
      "(-2.4753800973377573, 0.013585406558911287, 598)\n",
      "\n",
      "\n"
     ]
    }
   ],
   "source": [
    "ana.get_ipu_stats(df_bt_dc_rel, df_bt_dc_all, True)"
   ]
  },
  {
   "cell_type": "code",
   "execution_count": 65,
   "metadata": {},
   "outputs": [
    {
     "name": "stdout",
     "output_type": "stream",
     "text": [
      "total number of relevant IPUs: 41352\n",
      "syllables per relevant IPU: 5.13 (5.05)\n",
      "duration per relevant IPU (in s): 1.26 (0.97)\n",
      "total duration of relevant IPUs (in h): 14.50\n",
      "number of total IPUs per turn: 2.83 (3.58)\n",
      "number of relevant IPUs per speaker:\n",
      "\tmin:  25.00\n",
      "\tmax:  411.00\n",
      "\tmean: 137.84\n",
      "\tstd:  74.22\n",
      "\n",
      "\n",
      "speech rate of relevant IPUs per speaker: 3.80 (0.61)\n",
      "duration of relevant IPUs per speaker: 1.27 (0.28)\n",
      "syllables per relevant IPU per speaker: 5.14 (1.63)\n",
      "\n",
      "\n",
      "number of relevant IPUs per speaker (gender == f): 129.07 (70.55)\n",
      "number of relevant IPUs per speaker (gender == m): 146.61 (76.94)\n",
      "(-2.0569975620611487, 0.04055660665131546, 298)\n",
      "speech rate of relevant IPUs per speaker (gender == f): 3.65 (0.57)\n",
      "speech rate of relevant IPUs per speaker (gender == m): 3.94 (0.62)\n",
      "(-4.269824697064849, 2.632988143131757e-05, 298)\n",
      "duration of relevant IPUs per speaker (gender == f): 1.30 (0.30)\n",
      "duration of relevant IPUs per speaker (gender == m): 1.24 (0.27)\n",
      "(1.9016230402196765, 0.05818474255647092, 298)\n",
      "syllables per relevant IPU per speaker (gender == f): 5.13 (1.65)\n",
      "syllables per relevant IPU per speaker (gender == m): 5.16 (1.61)\n",
      "(-0.1553298511682221, 0.8766664426211952, 298)\n",
      "\n",
      "\n",
      "number of relevant IPUs per speaker (native_lang == Chinese): 156.07 (79.52)\n",
      "number of relevant IPUs per speaker (native_lang == English): 119.61 (63.71)\n",
      "(4.382979750182507, 1.6243865433189732e-05, 298)\n",
      "speech rate of relevant IPUs per speaker (native_lang == Chinese): 3.53 (0.46)\n",
      "speech rate of relevant IPUs per speaker (native_lang == English): 4.06 (0.63)\n",
      "(-8.29441660276139, 3.806765788624107e-15, 298)\n",
      "duration of relevant IPUs per speaker (native_lang == Chinese): 1.24 (0.28)\n",
      "duration of relevant IPUs per speaker (native_lang == English): 1.29 (0.29)\n",
      "(-1.532973184620987, 0.12634338312000534, 298)\n",
      "syllables per relevant IPU per speaker (native_lang == Chinese): 4.58 (1.30)\n",
      "syllables per relevant IPU per speaker (native_lang == English): 5.71 (1.73)\n",
      "(-6.372649396343992, 7.043421262320438e-10, 298)\n",
      "\n",
      "\n"
     ]
    }
   ],
   "source": [
    "ana.get_ipu_stats(df_bt_ee_rel, df_bt_ee_all)"
   ]
  },
  {
   "cell_type": "code",
   "execution_count": 66,
   "metadata": {},
   "outputs": [
    {
     "name": "stdout",
     "output_type": "stream",
     "text": [
      "total number of relevant IPUs: 42686\n",
      "syllables per relevant IPU: 5.13 (4.35)\n",
      "duration per relevant IPU (in s): 1.17 (0.84)\n",
      "total duration of relevant IPUs (in h): 13.92\n",
      "number of total IPUs per turn: 2.08 (1.66)\n",
      "number of relevant IPUs per speaker:\n",
      "\tmin:  27.00\n",
      "\tmax:  403.00\n",
      "\tmean: 142.29\n",
      "\tstd:  74.58\n",
      "\n",
      "\n",
      "speech rate of relevant IPUs per speaker: 4.36 (0.72)\n",
      "duration of relevant IPUs per speaker: 1.21 (0.23)\n",
      "syllables per relevant IPU per speaker: 5.43 (1.20)\n",
      "\n",
      "\n",
      "number of relevant IPUs per speaker (gender == f): 137.09 (74.31)\n",
      "number of relevant IPUs per speaker (gender == m): 147.49 (74.72)\n",
      "(-1.20863080441255, 0.22776286555777037, 298)\n",
      "speech rate of relevant IPUs per speaker (gender == f): 4.21 (0.68)\n",
      "speech rate of relevant IPUs per speaker (gender == m): 4.50 (0.73)\n",
      "(-3.5817795477472436, 0.00039839898003009224, 298)\n",
      "duration of relevant IPUs per speaker (gender == f): 1.25 (0.23)\n",
      "duration of relevant IPUs per speaker (gender == m): 1.17 (0.22)\n",
      "(3.042754407837605, 0.0025530238050956258, 298)\n",
      "syllables per relevant IPU per speaker (gender == f): 5.45 (1.13)\n",
      "syllables per relevant IPU per speaker (gender == m): 5.41 (1.26)\n",
      "(0.2712954588677429, 0.7863516326246508, 298)\n",
      "\n",
      "\n",
      "number of relevant IPUs per speaker (native_lang == Chinese): 163.43 (76.52)\n",
      "number of relevant IPUs per speaker (native_lang == English): 121.14 (66.37)\n",
      "(5.113699634186112, 5.662571560610794e-07, 298)\n",
      "speech rate of relevant IPUs per speaker (native_lang == Chinese): 3.95 (0.54)\n",
      "speech rate of relevant IPUs per speaker (native_lang == English): 4.77 (0.63)\n",
      "(-12.025503405510992, 2.018850658845058e-27, 298)\n",
      "duration of relevant IPUs per speaker (native_lang == Chinese): 1.22 (0.24)\n",
      "duration of relevant IPUs per speaker (native_lang == English): 1.19 (0.21)\n",
      "(1.0268905015371113, 0.305304828658971, 298)\n",
      "syllables per relevant IPU per speaker (native_lang == Chinese): 4.94 (1.04)\n",
      "syllables per relevant IPU per speaker (native_lang == English): 5.93 (1.14)\n",
      "(-7.850642659030552, 7.515859513482182e-14, 298)\n",
      "\n",
      "\n"
     ]
    }
   ],
   "source": [
    "ana.get_ipu_stats(df_bt_er_rel, df_bt_er_all)"
   ]
  },
  {
   "cell_type": "code",
   "execution_count": 67,
   "metadata": {},
   "outputs": [
    {
     "name": "stdout",
     "output_type": "stream",
     "text": [
      "total number of relevant IPUs: 12086\n",
      "syllables per relevant IPU: 10.91 (12.43)\n",
      "duration per relevant IPU (in s): 1.92 (3.37)\n",
      "total duration of relevant IPUs (in h): 6.44\n",
      "number of total IPUs per turn: 1.59 (1.24)\n",
      "number of relevant IPUs per speaker:\n",
      "\tmin:  17.00\n",
      "\tmax:  100.00\n",
      "\tmean: 57.55\n",
      "\tstd:  16.19\n",
      "\n",
      "\n",
      "speech rate of relevant IPUs per speaker: 5.35 (1.04)\n",
      "duration of relevant IPUs per speaker: 2.00 (0.81)\n",
      "syllables per relevant IPU per speaker: 11.50 (5.25)\n",
      "\n",
      "\n",
      "number of relevant IPUs per speaker (gender == f): 56.62 (16.32)\n",
      "number of relevant IPUs per speaker (gender == m): 58.49 (16.08)\n",
      "(-0.8348981829814806, 0.4047329527419964, 208)\n",
      "speech rate of relevant IPUs per speaker (gender == f): 5.12 (0.96)\n",
      "speech rate of relevant IPUs per speaker (gender == m): 5.57 (1.07)\n",
      "(-3.222700482205471, 0.0014741943613884926, 208)\n",
      "duration of relevant IPUs per speaker (gender == f): 2.09 (0.85)\n",
      "duration of relevant IPUs per speaker (gender == m): 1.91 (0.76)\n",
      "(1.6456167331278104, 0.10135293261042101, 208)\n",
      "syllables per relevant IPU per speaker (gender == f): 11.78 (5.36)\n",
      "syllables per relevant IPU per speaker (gender == m): 11.22 (5.15)\n",
      "(0.7702195756230485, 0.4420435598902802, 208)\n",
      "\n",
      "\n",
      "number of relevant IPUs per speaker (native_lang == Chinese): 62.15 (16.21)\n",
      "number of relevant IPUs per speaker (native_lang == English): 55.71 (15.86)\n",
      "(2.639913022211771, 0.008921274553386213, 208)\n",
      "speech rate of relevant IPUs per speaker (native_lang == Chinese): 4.64 (0.89)\n",
      "speech rate of relevant IPUs per speaker (native_lang == English): 5.63 (0.95)\n",
      "(-6.98002856585797, 3.8857340037197696e-11, 208)\n",
      "duration of relevant IPUs per speaker (native_lang == Chinese): 1.73 (0.61)\n",
      "duration of relevant IPUs per speaker (native_lang == English): 2.11 (0.86)\n",
      "(-3.0819533495498797, 0.002334816223572873, 208)\n",
      "syllables per relevant IPU per speaker (native_lang == Chinese): 8.34 (3.02)\n",
      "syllables per relevant IPU per speaker (native_lang == English): 12.77 (5.42)\n",
      "(-5.9502884382046135, 1.121386348347303e-08, 208)\n",
      "\n",
      "\n"
     ]
    }
   ],
   "source": [
    "ana.get_ipu_stats(df_bt_fc_rel, df_bt_fc_all)"
   ]
  },
  {
   "cell_type": "code",
   "execution_count": null,
   "metadata": {},
   "outputs": [],
   "source": []
  }
 ],
 "metadata": {
  "kernelspec": {
   "display_name": "Python 3",
   "language": "python",
   "name": "python3"
  },
  "language_info": {
   "codemirror_mode": {
    "name": "ipython",
    "version": 3
   },
   "file_extension": ".py",
   "mimetype": "text/x-python",
   "name": "python",
   "nbconvert_exporter": "python",
   "pygments_lexer": "ipython3",
   "version": "3.6.9"
  }
 },
 "nbformat": 4,
 "nbformat_minor": 4
}
