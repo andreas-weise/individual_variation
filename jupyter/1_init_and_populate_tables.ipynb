{
 "cells": [
  {
   "cell_type": "code",
   "execution_count": 1,
   "metadata": {},
   "outputs": [],
   "source": [
    "import multiprocessing\n",
    "import time\n",
    "\n",
    "import sys\n",
    "sys.path.append('../python/')\n",
    "import cfg\n",
    "import dc\n",
    "import db\n",
    "import fc"
   ]
  },
  {
   "cell_type": "markdown",
   "metadata": {},
   "source": [
    "## Fisher Corpus"
   ]
  },
  {
   "cell_type": "code",
   "execution_count": 2,
   "metadata": {},
   "outputs": [],
   "source": [
    "corpus_id = cfg.CORPUS_ID_FC"
   ]
  },
  {
   "cell_type": "code",
   "execution_count": 3,
   "metadata": {},
   "outputs": [],
   "source": [
    "# initialize the database (careful, this DELETES ALL DB TABLES)\n",
    "db.connect(corpus_id)\n",
    "db.executescript(cfg.SQL_PATH, cfg.SQL_INIT_FNAME_FC)\n",
    "db.commit()\n",
    "db.close()"
   ]
  },
  {
   "cell_type": "code",
   "execution_count": 4,
   "metadata": {},
   "outputs": [
    {
     "name": "stdout",
     "output_type": "stream",
     "text": [
      "1000 done\n",
      "2000 done\n",
      "3000 done\n",
      "4000 done\n",
      "5000 done\n",
      "6000 done\n",
      "7000 done\n",
      "8000 done\n",
      "9000 done\n",
      "10000 done\n",
      "11000 done\n",
      "11699 done, finished!\n"
     ]
    }
   ],
   "source": [
    "# extract meta-data from logs/transcripts\n",
    "# (processes 11.7k transcripts, takes a few minutes)\n",
    "db.connect(corpus_id)\n",
    "fc.populate_speakers()\n",
    "fc.populate_topics()\n",
    "fc.populate_sessions_and_tasks()\n",
    "fc.populate_turns_and_chunks()\n",
    "db.commit()\n",
    "db.close()"
   ]
  },
  {
   "cell_type": "code",
   "execution_count": 5,
   "metadata": {},
   "outputs": [],
   "source": [
    "# delete all data not relating to relevant subset of sessions\n",
    "db.connect(corpus_id)\n",
    "db.executescript(cfg.SQL_PATH, cfg.SQL_DI_FNAME)\n",
    "db.commit()\n",
    "db.close()"
   ]
  },
  {
   "cell_type": "code",
   "execution_count": 6,
   "metadata": {},
   "outputs": [
    {
     "name": "stdout",
     "output_type": "stream",
     "text": [
      "0 Fri Jul  1 14:15:53 2022\n",
      "\n",
      "21 Fri Jul  1 14:28:22 2022\n",
      "\n",
      "42 Fri Jul  1 14:41:31 2022\n",
      "\n",
      "63 Fri Jul  1 14:55:31 2022\n",
      "\n",
      "84 Fri Jul  1 15:08:33 2022\n",
      "\n",
      "done! Fri Jul  1 15:20:47 2022\n",
      "\n"
     ]
    }
   ],
   "source": [
    "# extract features for all chunks (takes about an hour on my machine)\n",
    "pool = multiprocessing.Pool(7)\n",
    "\n",
    "db.connect(corpus_id)\n",
    "ses_ids = db.get_ses_ids()\n",
    "db.close()\n",
    "\n",
    "start = 0\n",
    "step = 21\n",
    "\n",
    "for i in range(start, len(ses_ids), step):\n",
    "    print('%d %s\\n' % (i, time.ctime()))\n",
    "    args = [ses_ids[j] for j in range(i, min(i+step, len(ses_ids)))]\n",
    "    results = pool.map(fc.extract_features, args)\n",
    "print('done! %s\\n' % time.ctime())"
   ]
  },
  {
   "cell_type": "code",
   "execution_count": 7,
   "metadata": {},
   "outputs": [],
   "source": [
    "# run cleanup (set all features null for all chunks with any null)\n",
    "db.connect(corpus_id)\n",
    "db.executescript(cfg.SQL_PATH, cfg.SQL_CU_FNAME)\n",
    "db.commit()\n",
    "db.close()"
   ]
  },
  {
   "cell_type": "code",
   "execution_count": 8,
   "metadata": {},
   "outputs": [],
   "source": [
    "# create auxiliary table chunk_pairs\n",
    "db.connect(corpus_id)\n",
    "db.executescript(cfg.SQL_PATH, cfg.SQL_AT_FNAME)\n",
    "db.commit()\n",
    "db.close()"
   ]
  },
  {
   "cell_type": "markdown",
   "metadata": {},
   "source": [
    "## Deception Corpus"
   ]
  },
  {
   "cell_type": "code",
   "execution_count": 9,
   "metadata": {},
   "outputs": [],
   "source": [
    "corpus_id = cfg.CORPUS_ID_DC"
   ]
  },
  {
   "cell_type": "code",
   "execution_count": 10,
   "metadata": {},
   "outputs": [],
   "source": [
    "# initialize the database (careful, this DELETES ALL DB TABLES)\n",
    "db.connect(corpus_id)\n",
    "db.executescript(cfg.SQL_PATH, cfg.SQL_INIT_FNAME_DC)\n",
    "db.commit()\n",
    "db.close()"
   ]
  },
  {
   "cell_type": "code",
   "execution_count": 11,
   "metadata": {},
   "outputs": [],
   "source": [
    "# read list of relevant sessions into dict\n",
    "ses_dict = dc.get_ses_dict()"
   ]
  },
  {
   "cell_type": "code",
   "execution_count": 12,
   "metadata": {},
   "outputs": [],
   "source": [
    "# populate basic tables from meta-data files (takes ~30 seconds)\n",
    "db.connect(corpus_id)\n",
    "dc.populate_speakers(ses_dict)\n",
    "dc.populate_sessions_and_tasks(ses_dict)\n",
    "dc.populate_turns_and_chunks(ses_dict)\n",
    "db.set_turn_index_ses()\n",
    "db.set_duration()\n",
    "db.commit()\n",
    "db.close()"
   ]
  },
  {
   "cell_type": "code",
   "execution_count": 13,
   "metadata": {},
   "outputs": [
    {
     "name": "stdout",
     "output_type": "stream",
     "text": [
      "0 Wed Jun 29 18:31:48 2022\n",
      "\n",
      "21 Wed Jun 29 19:12:32 2022\n",
      "\n",
      "42 Wed Jun 29 19:48:52 2022\n",
      "\n",
      "63 Wed Jun 29 20:27:00 2022\n",
      "\n",
      "84 Wed Jun 29 21:11:08 2022\n",
      "\n",
      "105 Wed Jun 29 21:52:36 2022\n",
      "\n",
      "126 Wed Jun 29 22:38:47 2022\n",
      "\n",
      "147 Wed Jun 29 23:21:18 2022\n",
      "\n",
      "done! Wed Jun 29 23:32:20 2022\n",
      "\n"
     ]
    }
   ],
   "source": [
    "# extract features for all chunks (takes about five hours on my machine)\n",
    "pool = multiprocessing.Pool(7)\n",
    "\n",
    "db.connect(corpus_id)\n",
    "ses_ids = db.get_ses_ids()\n",
    "db.close()\n",
    "\n",
    "start = 0\n",
    "step = 21\n",
    "\n",
    "for i in range(start, len(ses_ids), step):\n",
    "    print('%d %s\\n' % (i, time.ctime()))\n",
    "    args = [ses_ids[j] for j in range(i, min(i+step, len(ses_ids)))]\n",
    "    results = pool.map(dc.extract_features, args)\n",
    "print('done! %s\\n' % time.ctime())"
   ]
  },
  {
   "cell_type": "code",
   "execution_count": 14,
   "metadata": {},
   "outputs": [],
   "source": [
    "# run cleanup (set all features null for all chunks with any null)\n",
    "db.connect(corpus_id)\n",
    "db.executescript(cfg.SQL_PATH, cfg.SQL_CU_FNAME)\n",
    "db.commit()\n",
    "db.close()"
   ]
  },
  {
   "cell_type": "code",
   "execution_count": 15,
   "metadata": {},
   "outputs": [],
   "source": [
    "# make timestamps continuous per session (run this only once!)\n",
    "db.connect(corpus_id)\n",
    "db.executescript(cfg.SQL_PATH, cfg.SQL_FT_FNAME)\n",
    "db.commit()\n",
    "db.close()"
   ]
  },
  {
   "cell_type": "code",
   "execution_count": 16,
   "metadata": {},
   "outputs": [],
   "source": [
    "# create auxiliary table chunk_pairs\n",
    "db.connect(corpus_id)\n",
    "db.executescript(cfg.SQL_PATH, cfg.SQL_AT_FNAME)\n",
    "db.commit()\n",
    "db.close()"
   ]
  }
 ],
 "metadata": {
  "kernelspec": {
   "display_name": "Python 3",
   "language": "python",
   "name": "python3"
  },
  "language_info": {
   "codemirror_mode": {
    "name": "ipython",
    "version": 3
   },
   "file_extension": ".py",
   "mimetype": "text/x-python",
   "name": "python",
   "nbconvert_exporter": "python",
   "pygments_lexer": "ipython3",
   "version": "3.6.9"
  }
 },
 "nbformat": 4,
 "nbformat_minor": 4
}
